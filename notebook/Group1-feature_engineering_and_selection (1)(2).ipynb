{
 "cells": [
  {
   "cell_type": "markdown",
   "metadata": {},
   "source": [
    "## Explolatory Data Analysis For Landslide Prevention and Innovation Dataset"
   ]
  },
  {
   "cell_type": "markdown",
   "metadata": {},
   "source": [
    "### Understand The Problem Statement\n",
    "\n",
    "The core of our project is to design and shape the future of landslide prevention and management with the example of Hong Kong.\n",
    "\n",
    "Hong Kong is one of the hilliest and most densely populated cities in the world which is frequently hit by extreme rainfall and is therefore highly susceptible to rain-induced landslides. A landslide is the movement of masses of rock, debris, or earth down a slope and can result in significant loss of life and property. A high-quality landslide inventory is essential not only for landslide hazard and risk analysis but also for supporting agency decisions on landslide hazard mitigation and prevention.\n",
    "\n",
    "The common practice of identifying landslides is visual interpretation which, however, is labor-intensive and time-consuming"
   ]
  },
  {
   "cell_type": "markdown",
   "metadata": {},
   "source": [
    "### Type of the Problem\n",
    "It is a classification problem where we have to automate landslide identification using artificial intelligence techniques"
   ]
  },
  {
   "cell_type": "markdown",
   "metadata": {},
   "source": [
    "### Load Python Packages"
   ]
  },
  {
   "cell_type": "code",
   "execution_count": 1,
   "metadata": {},
   "outputs": [],
   "source": [
    "# import important modules \n",
    "\n",
    "import pandas as pd\n",
    "import numpy as np\n",
    "import matplotlib.pyplot as plt\n",
    "import seaborn as sns  \n",
    "plt.rcParams[\"axes.labelsize\"] = 18\n",
    "import warnings\n",
    "warnings.filterwarnings('ignore')\n",
    "%matplotlib inline \n",
    "import joblib"
   ]
  },
  {
   "cell_type": "markdown",
   "metadata": {},
   "source": [
    "## Load Dataset"
   ]
  },
  {
   "cell_type": "code",
   "execution_count": 28,
   "metadata": {},
   "outputs": [],
   "source": [
    "# Import data\n",
    "new_data= pd.read_csv('Train.csv')\n"
   ]
  },
  {
   "cell_type": "code",
   "execution_count": 3,
   "metadata": {},
   "outputs": [
    {
     "name": "stdout",
     "output_type": "stream",
     "text": [
      "train data shape : (10864, 227)\n"
     ]
    }
   ],
   "source": [
    "# print shape \n",
    "print('train data shape :', data.shape)"
   ]
  },
  {
   "cell_type": "markdown",
   "metadata": {},
   "source": [
    "The above output show the number of rows and columns for dataset "
   ]
  },
  {
   "cell_type": "code",
   "execution_count": 4,
   "metadata": {},
   "outputs": [
    {
     "data": {
      "text/html": [
       "<div>\n",
       "<style scoped>\n",
       "    .dataframe tbody tr th:only-of-type {\n",
       "        vertical-align: middle;\n",
       "    }\n",
       "\n",
       "    .dataframe tbody tr th {\n",
       "        vertical-align: top;\n",
       "    }\n",
       "\n",
       "    .dataframe thead th {\n",
       "        text-align: right;\n",
       "    }\n",
       "</style>\n",
       "<table border=\"1\" class=\"dataframe\">\n",
       "  <thead>\n",
       "    <tr style=\"text-align: right;\">\n",
       "      <th></th>\n",
       "      <th>Sample_ID</th>\n",
       "      <th>1_elevation</th>\n",
       "      <th>2_elevation</th>\n",
       "      <th>3_elevation</th>\n",
       "      <th>4_elevation</th>\n",
       "      <th>5_elevation</th>\n",
       "      <th>6_elevation</th>\n",
       "      <th>7_elevation</th>\n",
       "      <th>8_elevation</th>\n",
       "      <th>9_elevation</th>\n",
       "      <th>...</th>\n",
       "      <th>17_sdoif</th>\n",
       "      <th>18_sdoif</th>\n",
       "      <th>19_sdoif</th>\n",
       "      <th>20_sdoif</th>\n",
       "      <th>21_sdoif</th>\n",
       "      <th>22_sdoif</th>\n",
       "      <th>23_sdoif</th>\n",
       "      <th>24_sdoif</th>\n",
       "      <th>25_sdoif</th>\n",
       "      <th>Label</th>\n",
       "    </tr>\n",
       "  </thead>\n",
       "  <tbody>\n",
       "    <tr>\n",
       "      <th>0</th>\n",
       "      <td>1</td>\n",
       "      <td>130</td>\n",
       "      <td>129</td>\n",
       "      <td>127</td>\n",
       "      <td>126</td>\n",
       "      <td>123</td>\n",
       "      <td>126</td>\n",
       "      <td>125</td>\n",
       "      <td>124</td>\n",
       "      <td>122</td>\n",
       "      <td>...</td>\n",
       "      <td>1.281779</td>\n",
       "      <td>1.281743</td>\n",
       "      <td>1.281720</td>\n",
       "      <td>1.281684</td>\n",
       "      <td>1.281811</td>\n",
       "      <td>1.281788</td>\n",
       "      <td>1.281752</td>\n",
       "      <td>1.281729</td>\n",
       "      <td>1.281693</td>\n",
       "      <td>0</td>\n",
       "    </tr>\n",
       "    <tr>\n",
       "      <th>1</th>\n",
       "      <td>2</td>\n",
       "      <td>161</td>\n",
       "      <td>158</td>\n",
       "      <td>155</td>\n",
       "      <td>153</td>\n",
       "      <td>151</td>\n",
       "      <td>162</td>\n",
       "      <td>159</td>\n",
       "      <td>155</td>\n",
       "      <td>153</td>\n",
       "      <td>...</td>\n",
       "      <td>1.359639</td>\n",
       "      <td>1.359608</td>\n",
       "      <td>1.359587</td>\n",
       "      <td>1.359556</td>\n",
       "      <td>1.359683</td>\n",
       "      <td>1.359662</td>\n",
       "      <td>1.359631</td>\n",
       "      <td>1.359610</td>\n",
       "      <td>1.359579</td>\n",
       "      <td>1</td>\n",
       "    </tr>\n",
       "    <tr>\n",
       "      <th>2</th>\n",
       "      <td>3</td>\n",
       "      <td>149</td>\n",
       "      <td>151</td>\n",
       "      <td>154</td>\n",
       "      <td>156</td>\n",
       "      <td>158</td>\n",
       "      <td>154</td>\n",
       "      <td>157</td>\n",
       "      <td>158</td>\n",
       "      <td>160</td>\n",
       "      <td>...</td>\n",
       "      <td>1.365005</td>\n",
       "      <td>1.365025</td>\n",
       "      <td>1.365055</td>\n",
       "      <td>1.365075</td>\n",
       "      <td>1.364937</td>\n",
       "      <td>1.364967</td>\n",
       "      <td>1.364988</td>\n",
       "      <td>1.365018</td>\n",
       "      <td>1.365038</td>\n",
       "      <td>0</td>\n",
       "    </tr>\n",
       "    <tr>\n",
       "      <th>3</th>\n",
       "      <td>4</td>\n",
       "      <td>80</td>\n",
       "      <td>78</td>\n",
       "      <td>77</td>\n",
       "      <td>75</td>\n",
       "      <td>73</td>\n",
       "      <td>80</td>\n",
       "      <td>78</td>\n",
       "      <td>77</td>\n",
       "      <td>75</td>\n",
       "      <td>...</td>\n",
       "      <td>1.100708</td>\n",
       "      <td>1.100738</td>\n",
       "      <td>1.100759</td>\n",
       "      <td>1.100789</td>\n",
       "      <td>1.100630</td>\n",
       "      <td>1.100650</td>\n",
       "      <td>1.100680</td>\n",
       "      <td>1.100700</td>\n",
       "      <td>1.100731</td>\n",
       "      <td>0</td>\n",
       "    </tr>\n",
       "    <tr>\n",
       "      <th>4</th>\n",
       "      <td>5</td>\n",
       "      <td>117</td>\n",
       "      <td>115</td>\n",
       "      <td>114</td>\n",
       "      <td>112</td>\n",
       "      <td>110</td>\n",
       "      <td>115</td>\n",
       "      <td>113</td>\n",
       "      <td>111</td>\n",
       "      <td>110</td>\n",
       "      <td>...</td>\n",
       "      <td>1.284180</td>\n",
       "      <td>1.284130</td>\n",
       "      <td>1.284056</td>\n",
       "      <td>1.284006</td>\n",
       "      <td>1.284125</td>\n",
       "      <td>1.284050</td>\n",
       "      <td>1.284001</td>\n",
       "      <td>1.283926</td>\n",
       "      <td>1.283876</td>\n",
       "      <td>0</td>\n",
       "    </tr>\n",
       "  </tbody>\n",
       "</table>\n",
       "<p>5 rows × 227 columns</p>\n",
       "</div>"
      ],
      "text/plain": [
       "   Sample_ID  1_elevation  2_elevation  3_elevation  4_elevation  5_elevation  \\\n",
       "0          1          130          129          127          126          123   \n",
       "1          2          161          158          155          153          151   \n",
       "2          3          149          151          154          156          158   \n",
       "3          4           80           78           77           75           73   \n",
       "4          5          117          115          114          112          110   \n",
       "\n",
       "   6_elevation  7_elevation  8_elevation  9_elevation  ...  17_sdoif  \\\n",
       "0          126          125          124          122  ...  1.281779   \n",
       "1          162          159          155          153  ...  1.359639   \n",
       "2          154          157          158          160  ...  1.365005   \n",
       "3           80           78           77           75  ...  1.100708   \n",
       "4          115          113          111          110  ...  1.284180   \n",
       "\n",
       "   18_sdoif  19_sdoif  20_sdoif  21_sdoif  22_sdoif  23_sdoif  24_sdoif  \\\n",
       "0  1.281743  1.281720  1.281684  1.281811  1.281788  1.281752  1.281729   \n",
       "1  1.359608  1.359587  1.359556  1.359683  1.359662  1.359631  1.359610   \n",
       "2  1.365025  1.365055  1.365075  1.364937  1.364967  1.364988  1.365018   \n",
       "3  1.100738  1.100759  1.100789  1.100630  1.100650  1.100680  1.100700   \n",
       "4  1.284130  1.284056  1.284006  1.284125  1.284050  1.284001  1.283926   \n",
       "\n",
       "   25_sdoif  Label  \n",
       "0  1.281693      0  \n",
       "1  1.359579      1  \n",
       "2  1.365038      0  \n",
       "3  1.100731      0  \n",
       "4  1.283876      0  \n",
       "\n",
       "[5 rows x 227 columns]"
      ]
     },
     "execution_count": 4,
     "metadata": {},
     "output_type": "execute_result"
    }
   ],
   "source": [
    "# Inspect Data by shing the first five rows \n",
    "data.head()"
   ]
  },
  {
   "cell_type": "markdown",
   "metadata": {},
   "source": [
    "### Explolatory Data Analysis \n",
    "\n",
    "This is the process of finding some insights from you dataset before create predictive models.\n"
   ]
  },
  {
   "cell_type": "code",
   "execution_count": 5,
   "metadata": {},
   "outputs": [
    {
     "data": {
      "text/plain": [
       "['Sample_ID',\n",
       " '1_elevation',\n",
       " '2_elevation',\n",
       " '3_elevation',\n",
       " '4_elevation',\n",
       " '5_elevation',\n",
       " '6_elevation',\n",
       " '7_elevation',\n",
       " '8_elevation',\n",
       " '9_elevation',\n",
       " '10_elevation',\n",
       " '11_elevation',\n",
       " '12_elevation',\n",
       " '13_elevation',\n",
       " '14_elevation',\n",
       " '15_elevation',\n",
       " '16_elevation',\n",
       " '17_elevation',\n",
       " '18_elevation',\n",
       " '19_elevation',\n",
       " '20_elevation',\n",
       " '21_elevation',\n",
       " '22_elevation',\n",
       " '23_elevation',\n",
       " '24_elevation',\n",
       " '25_elevation',\n",
       " '1_slope',\n",
       " '2_slope',\n",
       " '3_slope',\n",
       " '4_slope',\n",
       " '5_slope',\n",
       " '6_slope',\n",
       " '7_slope',\n",
       " '8_slope',\n",
       " '9_slope',\n",
       " '10_slope',\n",
       " '11_slope',\n",
       " '12_slope',\n",
       " '13_slope',\n",
       " '14_slope',\n",
       " '15_slope',\n",
       " '16_slope',\n",
       " '17_slope',\n",
       " '18_slope',\n",
       " '19_slope',\n",
       " '20_slope',\n",
       " '21_slope',\n",
       " '22_slope',\n",
       " '23_slope',\n",
       " '24_slope',\n",
       " '25_slope',\n",
       " '1_aspect',\n",
       " '2_aspect',\n",
       " '3_aspect',\n",
       " '4_aspect',\n",
       " '5_aspect',\n",
       " '6_aspect',\n",
       " '7_aspect',\n",
       " '8_aspect',\n",
       " '9_aspect',\n",
       " '10_aspect',\n",
       " '11_aspect',\n",
       " '12_aspect',\n",
       " '13_aspect',\n",
       " '14_aspect',\n",
       " '15_aspect',\n",
       " '16_aspect',\n",
       " '17_aspect',\n",
       " '18_aspect',\n",
       " '19_aspect',\n",
       " '20_aspect',\n",
       " '21_aspect',\n",
       " '22_aspect',\n",
       " '23_aspect',\n",
       " '24_aspect',\n",
       " '25_aspect',\n",
       " '1_placurv',\n",
       " '2_placurv',\n",
       " '3_placurv',\n",
       " '4_placurv',\n",
       " '5_placurv',\n",
       " '6_placurv',\n",
       " '7_placurv',\n",
       " '8_placurv',\n",
       " '9_placurv',\n",
       " '10_placurv',\n",
       " '11_placurv',\n",
       " '12_placurv',\n",
       " '13_placurv',\n",
       " '14_placurv',\n",
       " '15_placurv',\n",
       " '16_placurv',\n",
       " '17_placurv',\n",
       " '18_placurv',\n",
       " '19_placurv',\n",
       " '20_placurv',\n",
       " '21_placurv',\n",
       " '22_placurv',\n",
       " '23_placurv',\n",
       " '24_placurv',\n",
       " '25_placurv',\n",
       " '1_procurv',\n",
       " '2_procurv',\n",
       " '3_procurv',\n",
       " '4_procurv',\n",
       " '5_procurv',\n",
       " '6_procurv',\n",
       " '7_procurv',\n",
       " '8_procurv',\n",
       " '9_procurv',\n",
       " '10_procurv',\n",
       " '11_procurv',\n",
       " '12_procurv',\n",
       " '13_procurv',\n",
       " '14_procurv',\n",
       " '15_procurv',\n",
       " '16_procurv',\n",
       " '17_procurv',\n",
       " '18_procurv',\n",
       " '19_procurv',\n",
       " '20_procurv',\n",
       " '21_procurv',\n",
       " '22_procurv',\n",
       " '23_procurv',\n",
       " '24_procurv',\n",
       " '25_procurv',\n",
       " '1_lsfactor',\n",
       " '2_lsfactor',\n",
       " '3_lsfactor',\n",
       " '4_lsfactor',\n",
       " '5_lsfactor',\n",
       " '6_lsfactor',\n",
       " '7_lsfactor',\n",
       " '8_lsfactor',\n",
       " '9_lsfactor',\n",
       " '10_lsfactor',\n",
       " '11_lsfactor',\n",
       " '12_lsfactor',\n",
       " '13_lsfactor',\n",
       " '14_lsfactor',\n",
       " '15_lsfactor',\n",
       " '16_lsfactor',\n",
       " '17_lsfactor',\n",
       " '18_lsfactor',\n",
       " '19_lsfactor',\n",
       " '20_lsfactor',\n",
       " '21_lsfactor',\n",
       " '22_lsfactor',\n",
       " '23_lsfactor',\n",
       " '24_lsfactor',\n",
       " '25_lsfactor',\n",
       " '1_twi',\n",
       " '2_twi',\n",
       " '3_twi',\n",
       " '4_twi',\n",
       " '5_twi',\n",
       " '6_twi',\n",
       " '7_twi',\n",
       " '8_twi',\n",
       " '9_twi',\n",
       " '10_twi',\n",
       " '11_twi',\n",
       " '12_twi',\n",
       " '13_twi',\n",
       " '14_twi',\n",
       " '15_twi',\n",
       " '16_twi',\n",
       " '17_twi',\n",
       " '18_twi',\n",
       " '19_twi',\n",
       " '20_twi',\n",
       " '21_twi',\n",
       " '22_twi',\n",
       " '23_twi',\n",
       " '24_twi',\n",
       " '25_twi',\n",
       " '1_geology',\n",
       " '2_geology',\n",
       " '3_geology',\n",
       " '4_geology',\n",
       " '5_geology',\n",
       " '6_geology',\n",
       " '7_geology',\n",
       " '8_geology',\n",
       " '9_geology',\n",
       " '10_geology',\n",
       " '11_geology',\n",
       " '12_geology',\n",
       " '13_geology',\n",
       " '14_geology',\n",
       " '15_geology',\n",
       " '16_geology',\n",
       " '17_geology',\n",
       " '18_geology',\n",
       " '19_geology',\n",
       " '20_geology',\n",
       " '21_geology',\n",
       " '22_geology',\n",
       " '23_geology',\n",
       " '24_geology',\n",
       " '25_geology',\n",
       " '1_sdoif',\n",
       " '2_sdoif',\n",
       " '3_sdoif',\n",
       " '4_sdoif',\n",
       " '5_sdoif',\n",
       " '6_sdoif',\n",
       " '7_sdoif',\n",
       " '8_sdoif',\n",
       " '9_sdoif',\n",
       " '10_sdoif',\n",
       " '11_sdoif',\n",
       " '12_sdoif',\n",
       " '13_sdoif',\n",
       " '14_sdoif',\n",
       " '15_sdoif',\n",
       " '16_sdoif',\n",
       " '17_sdoif',\n",
       " '18_sdoif',\n",
       " '19_sdoif',\n",
       " '20_sdoif',\n",
       " '21_sdoif',\n",
       " '22_sdoif',\n",
       " '23_sdoif',\n",
       " '24_sdoif',\n",
       " '25_sdoif',\n",
       " 'Label']"
      ]
     },
     "execution_count": 5,
     "metadata": {},
     "output_type": "execute_result"
    }
   ],
   "source": [
    "#show list of columns \n",
    "list(data.columns)  "
   ]
  },
  {
   "cell_type": "code",
   "execution_count": 6,
   "metadata": {},
   "outputs": [
    {
     "name": "stdout",
     "output_type": "stream",
     "text": [
      "<class 'pandas.core.frame.DataFrame'>\n",
      "RangeIndex: 10864 entries, 0 to 10863\n",
      "Columns: 227 entries, Sample_ID to Label\n",
      "dtypes: float64(175), int64(52)\n",
      "memory usage: 18.8 MB\n",
      "None\n"
     ]
    }
   ],
   "source": [
    "## show Some information about the dataset \n",
    "print(data.info())"
   ]
  },
  {
   "cell_type": "markdown",
   "metadata": {},
   "source": [
    "The outshow shows the list of variables , sizes and data types in each variables. This will help us to know what feature engineering you can apply."
   ]
  },
  {
   "cell_type": "code",
   "execution_count": 7,
   "metadata": {},
   "outputs": [
    {
     "name": "stdout",
     "output_type": "stream",
     "text": [
      "missing values: Sample_ID      0\n",
      "1_elevation    0\n",
      "2_elevation    0\n",
      "3_elevation    0\n",
      "4_elevation    0\n",
      "              ..\n",
      "22_sdoif       0\n",
      "23_sdoif       0\n",
      "24_sdoif       0\n",
      "25_sdoif       0\n",
      "Label          0\n",
      "Length: 227, dtype: int64\n",
      "\n",
      "Total number of missing values is: 0\n"
     ]
    }
   ],
   "source": [
    "# Check for missing values\n",
    "print('missing values:', data.isnull().sum())\n",
    "print('')\n",
    "print('Total number of missing values is:', data.isnull().sum().sum())"
   ]
  },
  {
   "cell_type": "markdown",
   "metadata": {},
   "source": [
    "We don't have missing data in our dataset."
   ]
  },
  {
   "cell_type": "markdown",
   "metadata": {},
   "source": [
    "### FEATURE ENGINEERING "
   ]
  },
  {
   "cell_type": "code",
   "execution_count": 8,
   "metadata": {},
   "outputs": [
    {
     "data": {
      "text/plain": [
       "(10864, 10)"
      ]
     },
     "execution_count": 8,
     "metadata": {},
     "output_type": "execute_result"
    }
   ],
   "source": [
    "#remove id feature \n",
    "\n",
    "data = data.drop(['Sample_ID','1_elevation','2_elevation','3_elevation','4_elevation','5_elevation','6_elevation','7_elevation','8_elevation','9_elevation','10_elevation','11_elevation','12_elevation','14_elevation','15_elevation','16_elevation','17_elevation','18_elevation','19_elevation','20_elevation','21_elevation','22_elevation','23_elevation','24_elevation','25_elevation','1_slope','2_slope','3_slope','4_slope','5_slope','6_slope','7_slope','8_slope','9_slope','10_slope','11_slope','12_slope','14_slope','15_slope','16_slope','17_slope','18_slope','19_slope','20_slope','21_slope','22_slope','23_slope','24_slope','25_slope','1_aspect','2_aspect','3_aspect','4_aspect','5_aspect','6_aspect','7_aspect','8_aspect','9_aspect','10_aspect','11_aspect','12_aspect','14_aspect','15_aspect','16_aspect','17_aspect','18_aspect','19_aspect','20_aspect','21_aspect','22_aspect','23_aspect','24_aspect','25_aspect','1_placurv','2_placurv','3_placurv','4_placurv','5_placurv','6_placurv','7_placurv','8_placurv','9_placurv','10_placurv','11_placurv','12_placurv','14_placurv','15_placurv','16_placurv','17_placurv','18_placurv','19_placurv','20_placurv','21_placurv','22_placurv','23_placurv','24_placurv','25_placurv','1_procurv','2_procurv','3_procurv','4_procurv','5_procurv','6_procurv','7_procurv','8_procurv','9_procurv','10_procurv','11_procurv','12_procurv','14_procurv','15_procurv','16_procurv','17_procurv','18_procurv','19_procurv','20_procurv','21_procurv','22_procurv','23_procurv','24_procurv','25_procurv','1_lsfactor','2_lsfactor','3_lsfactor','4_lsfactor','5_lsfactor','6_lsfactor','7_lsfactor','8_lsfactor','9_lsfactor','10_lsfactor','11_lsfactor','12_lsfactor','14_lsfactor','15_lsfactor','16_lsfactor','17_lsfactor','18_lsfactor','19_lsfactor','20_lsfactor','21_lsfactor','22_lsfactor','23_lsfactor','24_lsfactor','25_lsfactor','1_twi','2_twi','3_twi','4_twi','5_twi','6_twi','7_twi','8_twi','9_twi','10_twi','11_twi','12_twi','14_twi','15_twi','16_twi','17_twi','18_twi','19_twi','20_twi','21_twi','22_twi','23_twi','24_twi','25_twi','1_geology','2_geology','3_geology','4_geology','5_geology','6_geology','7_geology','8_geology','9_geology','10_geology','11_geology','12_geology','14_geology','15_geology','16_geology','17_geology','18_geology','19_geology','20_geology','21_geology','22_geology','23_geology','24_geology','25_geology','1_sdoif','2_sdoif','3_sdoif','4_sdoif','5_sdoif','6_sdoif','7_sdoif','8_sdoif','9_sdoif','10_sdoif','11_sdoif','12_sdoif','14_sdoif','15_sdoif','16_sdoif','17_sdoif','18_sdoif','19_sdoif','20_sdoif','21_sdoif','22_sdoif','23_sdoif','24_sdoif','25_sdoif',], axis=1)\n",
    "\n",
    "data.shape "
   ]
  },
  {
   "cell_type": "code",
   "execution_count": 40,
   "metadata": {},
   "outputs": [
    {
     "data": {
      "text/plain": [
       "Index(['13_elevation', '13_slope', '13_aspect', '13_placurv', '13_procurv',\n",
       "       '13_lsfactor', '13_twi', '13_geology', '13_sdoif', 'Label'],\n",
       "      dtype='object')"
      ]
     },
     "execution_count": 40,
     "metadata": {},
     "output_type": "execute_result"
    }
   ],
   "source": [
    "#remove id feature \n",
    "\n",
    "data5 = new_data.drop(['Sample_ID','1_elevation','2_elevation','3_elevation','4_elevation','5_elevation','6_elevation','7_elevation','8_elevation','9_elevation','10_elevation','11_elevation','12_elevation','14_elevation','15_elevation','16_elevation','17_elevation','18_elevation','19_elevation','20_elevation','21_elevation','22_elevation','23_elevation','24_elevation','25_elevation','1_slope','2_slope','3_slope','4_slope','5_slope','6_slope','7_slope','8_slope','9_slope','10_slope','11_slope','12_slope','14_slope','15_slope','16_slope','17_slope','18_slope','19_slope','20_slope','21_slope','22_slope','23_slope','24_slope','25_slope','1_aspect','2_aspect','3_aspect','4_aspect','5_aspect','6_aspect','7_aspect','8_aspect','9_aspect','10_aspect','11_aspect','12_aspect','14_aspect','15_aspect','16_aspect','17_aspect','18_aspect','19_aspect','20_aspect','21_aspect','22_aspect','23_aspect','24_aspect','25_aspect','1_placurv','2_placurv','3_placurv','4_placurv','5_placurv','6_placurv','7_placurv','8_placurv','9_placurv','10_placurv','11_placurv','12_placurv','14_placurv','15_placurv','16_placurv','17_placurv','18_placurv','19_placurv','20_placurv','21_placurv','22_placurv','23_placurv','24_placurv','25_placurv','1_procurv','2_procurv','3_procurv','4_procurv','5_procurv','6_procurv','7_procurv','8_procurv','9_procurv','10_procurv','11_procurv','12_procurv','14_procurv','15_procurv','16_procurv','17_procurv','18_procurv','19_procurv','20_procurv','21_procurv','22_procurv','23_procurv','24_procurv','25_procurv','1_lsfactor','2_lsfactor','3_lsfactor','4_lsfactor','5_lsfactor','6_lsfactor','7_lsfactor','8_lsfactor','9_lsfactor','10_lsfactor','11_lsfactor','12_lsfactor','14_lsfactor','15_lsfactor','16_lsfactor','17_lsfactor','18_lsfactor','19_lsfactor','20_lsfactor','21_lsfactor','22_lsfactor','23_lsfactor','24_lsfactor','25_lsfactor','1_twi','2_twi','3_twi','4_twi','5_twi','6_twi','7_twi','8_twi','9_twi','10_twi','11_twi','12_twi','14_twi','15_twi','16_twi','17_twi','18_twi','19_twi','20_twi','21_twi','22_twi','23_twi','24_twi','25_twi','1_geology','2_geology','3_geology','4_geology','5_geology','6_geology','7_geology','8_geology','9_geology','10_geology','11_geology','12_geology','14_geology','15_geology','16_geology','17_geology','18_geology','19_geology','20_geology','21_geology','22_geology','23_geology','24_geology','25_geology','1_sdoif','2_sdoif','3_sdoif','4_sdoif','5_sdoif','6_sdoif','7_sdoif','8_sdoif','9_sdoif','10_sdoif','11_sdoif','12_sdoif','14_sdoif','15_sdoif','16_sdoif','17_sdoif','18_sdoif','19_sdoif','20_sdoif','21_sdoif','22_sdoif','23_sdoif','24_sdoif','25_sdoif',], axis=1)\n",
    "\n",
    "data5.columns "
   ]
  },
  {
   "cell_type": "code",
   "execution_count": 9,
   "metadata": {},
   "outputs": [
    {
     "data": {
      "text/html": [
       "<div>\n",
       "<style scoped>\n",
       "    .dataframe tbody tr th:only-of-type {\n",
       "        vertical-align: middle;\n",
       "    }\n",
       "\n",
       "    .dataframe tbody tr th {\n",
       "        vertical-align: top;\n",
       "    }\n",
       "\n",
       "    .dataframe thead th {\n",
       "        text-align: right;\n",
       "    }\n",
       "</style>\n",
       "<table border=\"1\" class=\"dataframe\">\n",
       "  <thead>\n",
       "    <tr style=\"text-align: right;\">\n",
       "      <th></th>\n",
       "      <th>13_elevation</th>\n",
       "      <th>13_slope</th>\n",
       "      <th>13_aspect</th>\n",
       "      <th>13_placurv</th>\n",
       "      <th>13_procurv</th>\n",
       "      <th>13_lsfactor</th>\n",
       "      <th>13_twi</th>\n",
       "      <th>13_geology</th>\n",
       "      <th>13_sdoif</th>\n",
       "      <th>Label</th>\n",
       "    </tr>\n",
       "  </thead>\n",
       "  <tbody>\n",
       "    <tr>\n",
       "      <th>0</th>\n",
       "      <td>119</td>\n",
       "      <td>44.56372</td>\n",
       "      <td>113.9625</td>\n",
       "      <td>0.017273</td>\n",
       "      <td>0.002025</td>\n",
       "      <td>11.035840</td>\n",
       "      <td>3.154479</td>\n",
       "      <td>3</td>\n",
       "      <td>1.281730</td>\n",
       "      <td>0</td>\n",
       "    </tr>\n",
       "    <tr>\n",
       "      <th>1</th>\n",
       "      <td>156</td>\n",
       "      <td>32.31153</td>\n",
       "      <td>198.4350</td>\n",
       "      <td>0.017014</td>\n",
       "      <td>-0.003220</td>\n",
       "      <td>9.067206</td>\n",
       "      <td>4.383853</td>\n",
       "      <td>3</td>\n",
       "      <td>1.359574</td>\n",
       "      <td>1</td>\n",
       "    </tr>\n",
       "    <tr>\n",
       "      <th>2</th>\n",
       "      <td>164</td>\n",
       "      <td>45.00000</td>\n",
       "      <td>270.0000</td>\n",
       "      <td>0.043121</td>\n",
       "      <td>0.025843</td>\n",
       "      <td>13.696470</td>\n",
       "      <td>4.169325</td>\n",
       "      <td>2</td>\n",
       "      <td>1.365050</td>\n",
       "      <td>0</td>\n",
       "    </tr>\n",
       "    <tr>\n",
       "      <th>3</th>\n",
       "      <td>77</td>\n",
       "      <td>16.69924</td>\n",
       "      <td>180.0000</td>\n",
       "      <td>0.032324</td>\n",
       "      <td>0.011816</td>\n",
       "      <td>3.400196</td>\n",
       "      <td>4.259946</td>\n",
       "      <td>2</td>\n",
       "      <td>1.100826</td>\n",
       "      <td>0</td>\n",
       "    </tr>\n",
       "    <tr>\n",
       "      <th>4</th>\n",
       "      <td>109</td>\n",
       "      <td>29.49621</td>\n",
       "      <td>135.0000</td>\n",
       "      <td>-0.007245</td>\n",
       "      <td>-0.012066</td>\n",
       "      <td>8.043085</td>\n",
       "      <td>4.430152</td>\n",
       "      <td>5</td>\n",
       "      <td>1.284217</td>\n",
       "      <td>0</td>\n",
       "    </tr>\n",
       "  </tbody>\n",
       "</table>\n",
       "</div>"
      ],
      "text/plain": [
       "   13_elevation  13_slope  13_aspect  13_placurv  13_procurv  13_lsfactor  \\\n",
       "0           119  44.56372   113.9625    0.017273    0.002025    11.035840   \n",
       "1           156  32.31153   198.4350    0.017014   -0.003220     9.067206   \n",
       "2           164  45.00000   270.0000    0.043121    0.025843    13.696470   \n",
       "3            77  16.69924   180.0000    0.032324    0.011816     3.400196   \n",
       "4           109  29.49621   135.0000   -0.007245   -0.012066     8.043085   \n",
       "\n",
       "     13_twi  13_geology  13_sdoif  Label  \n",
       "0  3.154479           3  1.281730      0  \n",
       "1  4.383853           3  1.359574      1  \n",
       "2  4.169325           2  1.365050      0  \n",
       "3  4.259946           2  1.100826      0  \n",
       "4  4.430152           5  1.284217      0  "
      ]
     },
     "execution_count": 9,
     "metadata": {},
     "output_type": "execute_result"
    }
   ],
   "source": [
    "#show the first five rows after removing unneccessary columns\n",
    "data.head()"
   ]
  },
  {
   "cell_type": "code",
   "execution_count": 10,
   "metadata": {},
   "outputs": [],
   "source": [
    "from sklearn.preprocessing import OneHotEncoder"
   ]
  },
  {
   "cell_type": "code",
   "execution_count": 11,
   "metadata": {},
   "outputs": [],
   "source": [
    "oneHot = OneHotEncoder()"
   ]
  },
  {
   "cell_type": "code",
   "execution_count": 12,
   "metadata": {},
   "outputs": [],
   "source": [
    "data2=oneHot.fit_transform(data['13_geology'].values.reshape(-1,1))"
   ]
  },
  {
   "cell_type": "code",
   "execution_count": 13,
   "metadata": {},
   "outputs": [
    {
     "data": {
      "text/plain": [
       "(10864, 7)"
      ]
     },
     "execution_count": 13,
     "metadata": {},
     "output_type": "execute_result"
    }
   ],
   "source": [
    "data2.shape"
   ]
  },
  {
   "cell_type": "code",
   "execution_count": 14,
   "metadata": {},
   "outputs": [],
   "source": [
    "data2=pd.DataFrame(data2.toarray(),columns=oneHot.get_feature_names_out())"
   ]
  },
  {
   "cell_type": "code",
   "execution_count": 15,
   "metadata": {},
   "outputs": [
    {
     "data": {
      "text/html": [
       "<div>\n",
       "<style scoped>\n",
       "    .dataframe tbody tr th:only-of-type {\n",
       "        vertical-align: middle;\n",
       "    }\n",
       "\n",
       "    .dataframe tbody tr th {\n",
       "        vertical-align: top;\n",
       "    }\n",
       "\n",
       "    .dataframe thead th {\n",
       "        text-align: right;\n",
       "    }\n",
       "</style>\n",
       "<table border=\"1\" class=\"dataframe\">\n",
       "  <thead>\n",
       "    <tr style=\"text-align: right;\">\n",
       "      <th></th>\n",
       "      <th>x0_1</th>\n",
       "      <th>x0_2</th>\n",
       "      <th>x0_3</th>\n",
       "      <th>x0_4</th>\n",
       "      <th>x0_5</th>\n",
       "      <th>x0_6</th>\n",
       "      <th>x0_7</th>\n",
       "    </tr>\n",
       "  </thead>\n",
       "  <tbody>\n",
       "    <tr>\n",
       "      <th>0</th>\n",
       "      <td>0.0</td>\n",
       "      <td>0.0</td>\n",
       "      <td>1.0</td>\n",
       "      <td>0.0</td>\n",
       "      <td>0.0</td>\n",
       "      <td>0.0</td>\n",
       "      <td>0.0</td>\n",
       "    </tr>\n",
       "    <tr>\n",
       "      <th>1</th>\n",
       "      <td>0.0</td>\n",
       "      <td>0.0</td>\n",
       "      <td>1.0</td>\n",
       "      <td>0.0</td>\n",
       "      <td>0.0</td>\n",
       "      <td>0.0</td>\n",
       "      <td>0.0</td>\n",
       "    </tr>\n",
       "    <tr>\n",
       "      <th>2</th>\n",
       "      <td>0.0</td>\n",
       "      <td>1.0</td>\n",
       "      <td>0.0</td>\n",
       "      <td>0.0</td>\n",
       "      <td>0.0</td>\n",
       "      <td>0.0</td>\n",
       "      <td>0.0</td>\n",
       "    </tr>\n",
       "    <tr>\n",
       "      <th>3</th>\n",
       "      <td>0.0</td>\n",
       "      <td>1.0</td>\n",
       "      <td>0.0</td>\n",
       "      <td>0.0</td>\n",
       "      <td>0.0</td>\n",
       "      <td>0.0</td>\n",
       "      <td>0.0</td>\n",
       "    </tr>\n",
       "    <tr>\n",
       "      <th>4</th>\n",
       "      <td>0.0</td>\n",
       "      <td>0.0</td>\n",
       "      <td>0.0</td>\n",
       "      <td>0.0</td>\n",
       "      <td>1.0</td>\n",
       "      <td>0.0</td>\n",
       "      <td>0.0</td>\n",
       "    </tr>\n",
       "    <tr>\n",
       "      <th>...</th>\n",
       "      <td>...</td>\n",
       "      <td>...</td>\n",
       "      <td>...</td>\n",
       "      <td>...</td>\n",
       "      <td>...</td>\n",
       "      <td>...</td>\n",
       "      <td>...</td>\n",
       "    </tr>\n",
       "    <tr>\n",
       "      <th>10859</th>\n",
       "      <td>0.0</td>\n",
       "      <td>1.0</td>\n",
       "      <td>0.0</td>\n",
       "      <td>0.0</td>\n",
       "      <td>0.0</td>\n",
       "      <td>0.0</td>\n",
       "      <td>0.0</td>\n",
       "    </tr>\n",
       "    <tr>\n",
       "      <th>10860</th>\n",
       "      <td>0.0</td>\n",
       "      <td>0.0</td>\n",
       "      <td>1.0</td>\n",
       "      <td>0.0</td>\n",
       "      <td>0.0</td>\n",
       "      <td>0.0</td>\n",
       "      <td>0.0</td>\n",
       "    </tr>\n",
       "    <tr>\n",
       "      <th>10861</th>\n",
       "      <td>0.0</td>\n",
       "      <td>0.0</td>\n",
       "      <td>1.0</td>\n",
       "      <td>0.0</td>\n",
       "      <td>0.0</td>\n",
       "      <td>0.0</td>\n",
       "      <td>0.0</td>\n",
       "    </tr>\n",
       "    <tr>\n",
       "      <th>10862</th>\n",
       "      <td>0.0</td>\n",
       "      <td>1.0</td>\n",
       "      <td>0.0</td>\n",
       "      <td>0.0</td>\n",
       "      <td>0.0</td>\n",
       "      <td>0.0</td>\n",
       "      <td>0.0</td>\n",
       "    </tr>\n",
       "    <tr>\n",
       "      <th>10863</th>\n",
       "      <td>0.0</td>\n",
       "      <td>0.0</td>\n",
       "      <td>1.0</td>\n",
       "      <td>0.0</td>\n",
       "      <td>0.0</td>\n",
       "      <td>0.0</td>\n",
       "      <td>0.0</td>\n",
       "    </tr>\n",
       "  </tbody>\n",
       "</table>\n",
       "<p>10864 rows × 7 columns</p>\n",
       "</div>"
      ],
      "text/plain": [
       "       x0_1  x0_2  x0_3  x0_4  x0_5  x0_6  x0_7\n",
       "0       0.0   0.0   1.0   0.0   0.0   0.0   0.0\n",
       "1       0.0   0.0   1.0   0.0   0.0   0.0   0.0\n",
       "2       0.0   1.0   0.0   0.0   0.0   0.0   0.0\n",
       "3       0.0   1.0   0.0   0.0   0.0   0.0   0.0\n",
       "4       0.0   0.0   0.0   0.0   1.0   0.0   0.0\n",
       "...     ...   ...   ...   ...   ...   ...   ...\n",
       "10859   0.0   1.0   0.0   0.0   0.0   0.0   0.0\n",
       "10860   0.0   0.0   1.0   0.0   0.0   0.0   0.0\n",
       "10861   0.0   0.0   1.0   0.0   0.0   0.0   0.0\n",
       "10862   0.0   1.0   0.0   0.0   0.0   0.0   0.0\n",
       "10863   0.0   0.0   1.0   0.0   0.0   0.0   0.0\n",
       "\n",
       "[10864 rows x 7 columns]"
      ]
     },
     "execution_count": 15,
     "metadata": {},
     "output_type": "execute_result"
    }
   ],
   "source": [
    "data2"
   ]
  },
  {
   "cell_type": "code",
   "execution_count": 16,
   "metadata": {},
   "outputs": [],
   "source": [
    "data =data.drop('13_geology',axis=1)"
   ]
  },
  {
   "cell_type": "code",
   "execution_count": 17,
   "metadata": {},
   "outputs": [],
   "source": [
    "data=pd.concat([data,data2],axis=1)"
   ]
  },
  {
   "cell_type": "code",
   "execution_count": null,
   "metadata": {},
   "outputs": [],
   "source": []
  },
  {
   "cell_type": "code",
   "execution_count": 18,
   "metadata": {},
   "outputs": [
    {
     "data": {
      "text/plain": [
       "['/Users/Lenovo/Desktop/Project/preprocessing/one_Hot_encoder.pkl']"
      ]
     },
     "execution_count": 18,
     "metadata": {},
     "output_type": "execute_result"
    }
   ],
   "source": [
    "joblib.dump(oneHot,'/Users/Lenovo/Desktop/Project/preprocessing/one_Hot_encoder.pkl')"
   ]
  },
  {
   "cell_type": "code",
   "execution_count": null,
   "metadata": {},
   "outputs": [],
   "source": []
  },
  {
   "cell_type": "code",
   "execution_count": null,
   "metadata": {},
   "outputs": [],
   "source": [
    "# enc=data()"
   ]
  },
  {
   "cell_type": "code",
   "execution_count": null,
   "metadata": {},
   "outputs": [],
   "source": [
    "joblib.dump(data1,'/Users/Lenovo/Desktop/Project/preprocessing/one_hot_encoding.pkl')"
   ]
  },
  {
   "cell_type": "code",
   "execution_count": null,
   "metadata": {},
   "outputs": [],
   "source": [
    "#show first five rows\n",
    "data.head()"
   ]
  },
  {
   "cell_type": "code",
   "execution_count": 39,
   "metadata": {},
   "outputs": [
    {
     "data": {
      "text/plain": [
       "Index(['Sample_ID', '1_elevation', '2_elevation', '3_elevation', '4_elevation',\n",
       "       '5_elevation', '6_elevation', '7_elevation', '8_elevation',\n",
       "       '9_elevation',\n",
       "       ...\n",
       "       '17_sdoif', '18_sdoif', '19_sdoif', '20_sdoif', '21_sdoif', '22_sdoif',\n",
       "       '23_sdoif', '24_sdoif', '25_sdoif', 'Label'],\n",
       "      dtype='object', length=227)"
      ]
     },
     "execution_count": 39,
     "metadata": {},
     "output_type": "execute_result"
    }
   ],
   "source": [
    "new_data.columns"
   ]
  },
  {
   "cell_type": "code",
   "execution_count": null,
   "metadata": {},
   "outputs": [],
   "source": [
    "# show list of columns \n",
    "\n",
    "list(data.columns)\n"
   ]
  },
  {
   "cell_type": "code",
   "execution_count": 21,
   "metadata": {},
   "outputs": [],
   "source": [
    "# import MinMaxScaler\n",
    "from sklearn.preprocessing import MinMaxScaler"
   ]
  },
  {
   "cell_type": "code",
   "execution_count": 24,
   "metadata": {},
   "outputs": [],
   "source": [
    "# feature scalling by using minmaxscaler method \n",
    "scaler = MinMaxScaler(feature_range=(0, 1))\n",
    "\n",
    "\n",
    "data3 = scaler.fit_transform(data.drop('Label',axis=1).values.reshape(-1,1))\n"
   ]
  },
  {
   "cell_type": "code",
   "execution_count": 23,
   "metadata": {},
   "outputs": [
    {
     "data": {
      "text/plain": [
       "['/Users/Lenovo/Desktop/Project/preprocessing/min-max-scaler.pkl']"
      ]
     },
     "execution_count": 23,
     "metadata": {},
     "output_type": "execute_result"
    }
   ],
   "source": [
    "joblib.dump(scaler,'/Users/Lenovo/Desktop/Project/preprocessing/min-max-scaler.pkl')"
   ]
  },
  {
   "cell_type": "code",
   "execution_count": 26,
   "metadata": {},
   "outputs": [],
   "source": [
    "data=pd.DataFrame(data3.reshape(-1,15),columns=data.drop('Label',axis=1).columns)\n"
   ]
  },
  {
   "cell_type": "code",
   "execution_count": 27,
   "metadata": {},
   "outputs": [
    {
     "data": {
      "text/plain": [
       "Index(['13_elevation', '13_slope', '13_aspect', '13_placurv', '13_procurv',\n",
       "       '13_lsfactor', '13_twi', '13_sdoif', 'x0_1', 'x0_2', 'x0_3', 'x0_4',\n",
       "       'x0_5', 'x0_6', 'x0_7'],\n",
       "      dtype='object')"
      ]
     },
     "execution_count": 27,
     "metadata": {},
     "output_type": "execute_result"
    }
   ],
   "source": [
    "data.columns"
   ]
  },
  {
   "cell_type": "code",
   "execution_count": 25,
   "metadata": {},
   "outputs": [
    {
     "data": {
      "text/plain": [
       "['/Users/Lenovo/Desktop/Project/preprocessing/min-max-scaler2.pkl']"
      ]
     },
     "execution_count": 25,
     "metadata": {},
     "output_type": "execute_result"
    }
   ],
   "source": [
    "joblib.dump(scaler,'/Users/Lenovo/Desktop/Project/preprocessing/min-max-scaler2.pkl')"
   ]
  },
  {
   "cell_type": "code",
   "execution_count": null,
   "metadata": {},
   "outputs": [],
   "source": [
    "#show shape \n",
    "data.shape  "
   ]
  },
  {
   "cell_type": "code",
   "execution_count": null,
   "metadata": {},
   "outputs": [],
   "source": [
    "#show first five rows \n",
    "data.head() "
   ]
  },
  {
   "cell_type": "code",
   "execution_count": null,
   "metadata": {},
   "outputs": [],
   "source": [
    "# show data of the first row \n",
    "data[:1].values "
   ]
  },
  {
   "cell_type": "markdown",
   "metadata": {},
   "source": [
    "### FEATURE SELECTIONS"
   ]
  },
  {
   "cell_type": "markdown",
   "metadata": {},
   "source": [
    "#### Univariate Selection"
   ]
  },
  {
   "cell_type": "code",
   "execution_count": null,
   "metadata": {},
   "outputs": [],
   "source": [
    "# import packages \n",
    "from sklearn.feature_selection import SelectKBest\n",
    "from sklearn.feature_selection import chi2"
   ]
  },
  {
   "cell_type": "code",
   "execution_count": null,
   "metadata": {},
   "outputs": [],
   "source": [
    "data.shape"
   ]
  },
  {
   "cell_type": "code",
   "execution_count": null,
   "metadata": {},
   "outputs": [],
   "source": []
  },
  {
   "cell_type": "code",
   "execution_count": 29,
   "metadata": {},
   "outputs": [],
   "source": [
    "#split dataset into features and target\n",
    "features = data.copy()"
   ]
  },
  {
   "cell_type": "code",
   "execution_count": 30,
   "metadata": {},
   "outputs": [],
   "source": [
    "target=new_data['Label']"
   ]
  },
  {
   "cell_type": "code",
   "execution_count": 32,
   "metadata": {},
   "outputs": [
    {
     "data": {
      "text/plain": [
       "(10864, 15)"
      ]
     },
     "execution_count": 32,
     "metadata": {},
     "output_type": "execute_result"
    }
   ],
   "source": [
    "features.shape"
   ]
  },
  {
   "cell_type": "code",
   "execution_count": null,
   "metadata": {},
   "outputs": [],
   "source": [
    "#apply SelectKBest class to extract top 10 best features\n",
    "bestfeatures = SelectKBest(score_func=chi2, k=10)\n",
    "\n",
    "#train to find best features\n",
    "fit = bestfeatures.fit(features,target)\n",
    "\n",
    "#save in the dataframe \n",
    "dfscores = pd.DataFrame(fit.scores_)\n",
    "dfcolumns = pd.DataFrame(features.columns)\n",
    "\n",
    "#concat two dataframes for better visualization \n",
    "featureScores = pd.concat([dfcolumns,dfscores],axis=1)\n",
    "\n",
    "#naming the dataframe columns\n",
    "featureScores.columns = ['Specs','Score'] \n",
    "\n",
    "#print 10 best features \n",
    "print(featureScores.nlargest(10,'Score'))  "
   ]
  },
  {
   "cell_type": "markdown",
   "metadata": {},
   "source": [
    "**Where:** \n",
    "\n",
    "**1:** Weathered Cretaceous granitic rocks\n",
    "**2:** Weathered Jurassic granite rocks\n",
    "**3:** Weathered Jurassic tuff and lava\n",
    "**4:** Weathered Cretaceous tuff and lava\n",
    "**5:** Quaternary deposits\n",
    "**6:** Fill\n",
    "**7:** Weathered Jurassic sandstone, siltstone and mudstone\n",
    "\n",
    "**13_lsfactor** Length-slope factor  \n",
    "**13_twi:** Topographic wetness index \n",
    "**13_sdoif** Step duration orographic intensification factor: "
   ]
  },
  {
   "cell_type": "code",
   "execution_count": null,
   "metadata": {},
   "outputs": [],
   "source": [
    "# fit and tranform into the 10 best features \n",
    "transformer = SelectKBest(chi2, k=10)\n",
    "\n",
    "#transform from 15 features into top 10 features\n",
    "top_10_features = transformer.fit_transform(features, target)\n",
    "\n",
    "#show the shape \n",
    "top_10_features.shape "
   ]
  },
  {
   "cell_type": "markdown",
   "metadata": {},
   "source": [
    "#### Feature Importance \n"
   ]
  },
  {
   "cell_type": "code",
   "execution_count": null,
   "metadata": {},
   "outputs": [],
   "source": [
    "#import package \n",
    "from sklearn.ensemble import ExtraTreesClassifier, RandomForestClassifier"
   ]
  },
  {
   "cell_type": "code",
   "execution_count": null,
   "metadata": {},
   "outputs": [],
   "source": [
    "#create model for training \n",
    "model = RandomForestClassifier()\n",
    "model.fit(features,target)\n",
    "\n",
    "#use inbuilt class feature_importances of tree based classifiers\n",
    "print(model.feature_importances_) \n",
    "\n",
    "#plot graph of feature importances for better visualization\n",
    "feature_importances = pd.Series(model.feature_importances_, index=features.columns)\n",
    "\n",
    "# show the first 30 important features \n",
    "\n",
    "fig= plt.figure(figsize=(25,25))\n",
    "sns.set(font_scale = 3)\n",
    "feature_importances.nlargest(30).plot(kind='barh')\n",
    "plt.show()"
   ]
  },
  {
   "cell_type": "markdown",
   "metadata": {},
   "source": [
    "#### Correlation Matrix with Heatmap"
   ]
  },
  {
   "cell_type": "code",
   "execution_count": null,
   "metadata": {},
   "outputs": [],
   "source": [
    "#get correlations of each features in dataset\n",
    "plt.figure(figsize=(30,30))\n",
    "\n",
    "#plot heat map\n",
    "sns.set(font_scale = 3)\n",
    "# to show number set annot=True\n",
    "d = sns.heatmap(data.corr(),annot=False, cmap=\"RdPu\")\n",
    "\n",
    "#save the figure \n",
    "figure = d.get_figure()\n",
    "figure.savefig(\"heatmap_output.png\")\n",
    "\n",
    "# show the heatamp graph \n",
    "d  "
   ]
  },
  {
   "cell_type": "code",
   "execution_count": null,
   "metadata": {
    "scrolled": false
   },
   "outputs": [],
   "source": [
    "# SHOW CORRELATION OF DATA TO THE TARGET COLUMN \n",
    "features_corr = pd.DataFrame(abs(data.corr()['Label']).sort_values(ascending = False)) \n",
    "\n",
    "features_corr "
   ]
  },
  {
   "cell_type": "markdown",
   "metadata": {},
   "source": [
    "### Using Logistic regression"
   ]
  },
  {
   "cell_type": "code",
   "execution_count": 33,
   "metadata": {},
   "outputs": [],
   "source": [
    "from sklearn.linear_model import LogisticRegression\n",
    "from sklearn.model_selection import train_test_split\n",
    "from sklearn.metrics import accuracy_score"
   ]
  },
  {
   "cell_type": "code",
   "execution_count": 34,
   "metadata": {},
   "outputs": [],
   "source": [
    "model = LogisticRegression(random_state=0)\n",
    "X_train,X_test,y_train,y_test=train_test_split(features,target,train_size=0.75,test_size=0.25)"
   ]
  },
  {
   "cell_type": "markdown",
   "metadata": {},
   "source": [
    "### 1st Evaluation Metric:  Accuracy"
   ]
  },
  {
   "cell_type": "code",
   "execution_count": null,
   "metadata": {},
   "outputs": [],
   "source": [
    "model.fit(X_train,y_train)\n",
    "predictions=model.predict(X_test)\n",
    "score=accuracy_score(y_test,predictions)\n",
    "print(score)"
   ]
  },
  {
   "cell_type": "code",
   "execution_count": null,
   "metadata": {},
   "outputs": [],
   "source": [
    "add_col=[]\n",
    "for column in featureScores.nlargest(20,'Score')['Specs']:\n",
    "    add_col.append(column)\n",
    "    print(add_col)\n",
    "    model.fit(X_train[add_col],y_train)\n",
    "    predictions=model.predict(X_test[add_col])\n",
    "    print(accuracy_score(y_test,predictions))"
   ]
  },
  {
   "cell_type": "markdown",
   "metadata": {},
   "source": [
    "### 2nd Evaluation Metric: Confusion Matrix "
   ]
  },
  {
   "cell_type": "code",
   "execution_count": null,
   "metadata": {
    "scrolled": true
   },
   "outputs": [],
   "source": [
    "from sklearn.metrics import confusion_matrix, ConfusionMatrixDisplay\n",
    "\n",
    "#Compute confusion matrix to evaluate the accuracy of a classification.\n",
    "confusion_table = confusion_matrix(y_test, predictions)\n",
    "\n",
    "#Confusion Matrix visualization.\n",
    "cm_display = ConfusionMatrixDisplay(confusion_matrix=confusion_table,\n",
    "                                    display_labels=['No', 'Yes'])\n",
    "#create the plot\n",
    "cm_display.plot()\n",
    "\n",
    "#display the plot\n",
    "plt.show()"
   ]
  },
  {
   "cell_type": "markdown",
   "metadata": {},
   "source": [
    "### 3rd Evaluation Metric: F1 Score"
   ]
  },
  {
   "cell_type": "code",
   "execution_count": null,
   "metadata": {},
   "outputs": [],
   "source": [
    "from sklearn.metrics import f1_score\n",
    "\n",
    "score = f1_score(y_test,predictions)\n",
    "\n",
    "score "
   ]
  },
  {
   "cell_type": "markdown",
   "metadata": {},
   "source": [
    "# Using Random Forest Classification"
   ]
  },
  {
   "cell_type": "code",
   "execution_count": null,
   "metadata": {},
   "outputs": [],
   "source": [
    "#split data into train and test \n",
    "from sklearn.model_selection import train_test_split\n",
    "\n",
    "\n",
    "X_train, X_test, y_train, y_test = train_test_split(features,\n",
    "                                                    target,\n",
    "                                                    test_size=0.20,\n",
    "                                                    random_state=42)"
   ]
  },
  {
   "cell_type": "code",
   "execution_count": null,
   "metadata": {},
   "outputs": [],
   "source": [
    "# train the model \n",
    "from sklearn.ensemble import RandomForestClassifier\n",
    "\n",
    "classifier  = RandomForestClassifier(n_estimators=100)"
   ]
  },
  {
   "cell_type": "code",
   "execution_count": null,
   "metadata": {},
   "outputs": [],
   "source": [
    "#train the model \n",
    "classifier.fit(X_train,y_train)"
   ]
  },
  {
   "cell_type": "code",
   "execution_count": null,
   "metadata": {},
   "outputs": [],
   "source": [
    "# make predicition on test set \n",
    "\n",
    "preds = classifier.predict(X_test)"
   ]
  },
  {
   "cell_type": "markdown",
   "metadata": {},
   "source": [
    "### 1st Evaluation Metric:  Accuracy"
   ]
  },
  {
   "cell_type": "code",
   "execution_count": null,
   "metadata": {},
   "outputs": [],
   "source": [
    "from sklearn.metrics import accuracy_score\n",
    "\n",
    "model_score = accuracy_score(y_test,preds)\n",
    "\n",
    "print(\"{:.2f}%\".format(model_score*100))"
   ]
  },
  {
   "cell_type": "markdown",
   "metadata": {},
   "source": [
    "### 2nd Evaluation Metric: Confusion Matrix "
   ]
  },
  {
   "cell_type": "code",
   "execution_count": null,
   "metadata": {},
   "outputs": [],
   "source": [
    "from sklearn.metrics import confusion_matrix, ConfusionMatrixDisplay\n",
    "\n",
    "#Compute confusion matrix to evaluate the accuracy of a classification.\n",
    "confusion_table = confusion_matrix(y_test, preds)\n",
    "\n",
    "#Confusion Matrix visualization.\n",
    "cm_display = ConfusionMatrixDisplay(confusion_matrix=confusion_table,\n",
    "                                    display_labels=['No', 'Yes'])\n",
    "#create the plot\n",
    "cm_display.plot()\n",
    "\n",
    "#display the plot\n",
    "plt.show()"
   ]
  },
  {
   "cell_type": "markdown",
   "metadata": {},
   "source": [
    "### 3rd Evaluation Metric: F1 Score"
   ]
  },
  {
   "cell_type": "code",
   "execution_count": null,
   "metadata": {},
   "outputs": [],
   "source": [
    "from sklearn.metrics import f1_score\n",
    "\n",
    "score = f1_score(y_test,preds,)\n",
    "\n",
    "score "
   ]
  },
  {
   "cell_type": "markdown",
   "metadata": {},
   "source": [
    "# Using Histogram based Gradient Boost"
   ]
  },
  {
   "cell_type": "code",
   "execution_count": null,
   "metadata": {},
   "outputs": [],
   "source": [
    "#split data into train and test \n",
    "from sklearn.model_selection import train_test_split\n",
    "\n",
    "\n",
    "X_train, X_test, y_train, y_test = train_test_split(features,\n",
    "                                                    target,\n",
    "                                                    test_size=0.20,\n",
    "                                                    stratify=target,\n",
    "                                                    random_state=42)"
   ]
  },
  {
   "cell_type": "code",
   "execution_count": null,
   "metadata": {},
   "outputs": [],
   "source": [
    "from sklearn.ensemble import HistGradientBoostingClassifier\n",
    "\n",
    "classifier  = HistGradientBoostingClassifier()"
   ]
  },
  {
   "cell_type": "code",
   "execution_count": null,
   "metadata": {},
   "outputs": [],
   "source": [
    "#train the model \n",
    "classifier.fit(X_train,y_train)"
   ]
  },
  {
   "cell_type": "code",
   "execution_count": null,
   "metadata": {},
   "outputs": [],
   "source": [
    "# make predicition on test set \n",
    "\n",
    "preds = classifier.predict(X_test)"
   ]
  },
  {
   "cell_type": "markdown",
   "metadata": {},
   "source": [
    "### 1st Evaluation Metric: Accuracy"
   ]
  },
  {
   "cell_type": "code",
   "execution_count": null,
   "metadata": {},
   "outputs": [],
   "source": [
    "from sklearn.metrics import accuracy_score\n",
    "\n",
    "model_score = accuracy_score(y_test,preds)\n",
    "\n",
    "print(\"{:.2f}%\".format(model_score*100))"
   ]
  },
  {
   "cell_type": "markdown",
   "metadata": {},
   "source": [
    "### 2nd Evaluation Metric: F1 Score"
   ]
  },
  {
   "cell_type": "code",
   "execution_count": null,
   "metadata": {},
   "outputs": [],
   "source": [
    "from sklearn.metrics import f1_score\n",
    "score = f1_score(y_test,preds,)\n",
    "\n",
    "score "
   ]
  },
  {
   "cell_type": "markdown",
   "metadata": {},
   "source": [
    "we have seen here the accuracy of the model increased a bit using histogram based gradient boost"
   ]
  },
  {
   "cell_type": "markdown",
   "metadata": {},
   "source": [
    "# Using Voting Classifier"
   ]
  },
  {
   "cell_type": "code",
   "execution_count": null,
   "metadata": {},
   "outputs": [],
   "source": [
    "#split data into train and test \n",
    "from sklearn.model_selection import train_test_split\n",
    "\n",
    "\n",
    "X_train, X_test, y_train, y_test = train_test_split(features,\n",
    "                                                    target,\n",
    "                                                    test_size=0.20,\n",
    "                                                    stratify=target,\n",
    "                                                    random_state=42)"
   ]
  },
  {
   "cell_type": "code",
   "execution_count": null,
   "metadata": {},
   "outputs": [],
   "source": [
    "#importing libraries\n",
    "from sklearn.ensemble import VotingClassifier\n",
    "from sklearn.svm import SVC\n",
    "from sklearn.tree import DecisionTreeClassifier\n",
    "\n",
    "#ensemble/ group of models\n",
    "estimator=[]\n",
    "estimator.append(('LR',LogisticRegression(solver='lbfgs',multi_class='multinomial',max_iter=200)))\n",
    "estimator.append(('SVC',SVC(gamma='auto',probability=True)))\n",
    "estimator.append(('DTC',DecisionTreeClassifier()))\n",
    "\n",
    "# classifier  = VotingClassifier(estimators=estimator, voting='hard')\n",
    "classifier  = VotingClassifier(estimators=estimator, voting='soft')"
   ]
  },
  {
   "cell_type": "code",
   "execution_count": null,
   "metadata": {},
   "outputs": [],
   "source": [
    "#train the model \n",
    "classifier.fit(X_train,y_train)"
   ]
  },
  {
   "cell_type": "code",
   "execution_count": null,
   "metadata": {},
   "outputs": [],
   "source": [
    "# make predicition on test set \n",
    "\n",
    "preds = classifier.predict(X_test)"
   ]
  },
  {
   "cell_type": "markdown",
   "metadata": {},
   "source": [
    "### 1st Evaluation Metric: Accuracy"
   ]
  },
  {
   "cell_type": "code",
   "execution_count": null,
   "metadata": {},
   "outputs": [],
   "source": [
    "from sklearn.metrics import accuracy_score\n",
    "\n",
    "model_score = accuracy_score(y_test,preds)\n",
    "\n",
    "print(\"{:.2f}%\".format(model_score*100))"
   ]
  },
  {
   "cell_type": "markdown",
   "metadata": {},
   "source": [
    "### 2nd Evaluation Metric: F1 Score"
   ]
  },
  {
   "cell_type": "code",
   "execution_count": null,
   "metadata": {},
   "outputs": [],
   "source": [
    "from sklearn.metrics import f1_score\n",
    "\n",
    "score = f1_score(y_test,preds,)\n",
    "\n",
    "score "
   ]
  },
  {
   "cell_type": "markdown",
   "metadata": {},
   "source": [
    "we have seen that the accuracy of the model dropped when using voting classifier"
   ]
  },
  {
   "cell_type": "markdown",
   "metadata": {},
   "source": [
    "## Using Lightgbm"
   ]
  },
  {
   "cell_type": "code",
   "execution_count": null,
   "metadata": {},
   "outputs": [],
   "source": [
    "!pip install lightgbm"
   ]
  },
  {
   "cell_type": "code",
   "execution_count": null,
   "metadata": {},
   "outputs": [],
   "source": [
    "import lightgbm as lgb\n",
    "from lightgbm import LGBMClassifier"
   ]
  },
  {
   "cell_type": "code",
   "execution_count": null,
   "metadata": {},
   "outputs": [],
   "source": [
    "from imblearn import over_sampling\n",
    "from imblearn.over_sampling import SMOTE\n",
    "oversample=SMOTE()\n",
    "X_train,y_train=oversample.fit_resample(X_train,y_train)"
   ]
  },
  {
   "cell_type": "code",
   "execution_count": null,
   "metadata": {},
   "outputs": [],
   "source": [
    "classifier  = LGBMClassifier()\n",
    "\n",
    "#train the model \n",
    "classifier.fit(X_train,y_train)\n",
    "\n",
    "# make predicition on test set \n",
    "\n",
    "preds = classifier.predict(X_test)"
   ]
  },
  {
   "cell_type": "code",
   "execution_count": null,
   "metadata": {},
   "outputs": [],
   "source": [
    "from sklearn.metrics import accuracy_score\n",
    "\n",
    "model_score = accuracy_score(y_test,preds)\n",
    "\n",
    "print(\"{:.2f}%\".format(model_score*100))"
   ]
  },
  {
   "cell_type": "code",
   "execution_count": null,
   "metadata": {},
   "outputs": [],
   "source": [
    "from sklearn.metrics import f1_score\n",
    "\n",
    "score = f1_score(y_test,preds,)\n",
    "\n",
    "score "
   ]
  },
  {
   "cell_type": "markdown",
   "metadata": {},
   "source": [
    "## Using Xgboost"
   ]
  },
  {
   "cell_type": "code",
   "execution_count": null,
   "metadata": {},
   "outputs": [],
   "source": [
    "!pip install xgboost"
   ]
  },
  {
   "cell_type": "code",
   "execution_count": null,
   "metadata": {},
   "outputs": [],
   "source": [
    "import xgboost as xgb\n",
    "from xgboost import XGBClassifier"
   ]
  },
  {
   "cell_type": "code",
   "execution_count": null,
   "metadata": {},
   "outputs": [],
   "source": [
    "from imblearn import over_sampling\n",
    "from imblearn.over_sampling import SMOTE\n",
    "oversample=SMOTE()\n",
    "X_train,y_train=oversample.fit_resample(X_train,y_train)"
   ]
  },
  {
   "cell_type": "code",
   "execution_count": null,
   "metadata": {},
   "outputs": [],
   "source": [
    "classifier  = XGBClassifier()\n",
    "\n",
    "#train the model \n",
    "classifier.fit(X_train,y_train)\n",
    "\n",
    "# make predicition on test set \n",
    "\n",
    "preds = classifier.predict(X_test)"
   ]
  },
  {
   "cell_type": "code",
   "execution_count": null,
   "metadata": {},
   "outputs": [],
   "source": [
    "from sklearn.metrics import accuracy_score\n",
    "\n",
    "model_score = accuracy_score(y_test,preds)\n",
    "\n",
    "print(\"{:.2f}%\".format(model_score*100))"
   ]
  },
  {
   "cell_type": "code",
   "execution_count": null,
   "metadata": {},
   "outputs": [],
   "source": [
    "from sklearn.metrics import f1_score\n",
    "\n",
    "score = f1_score(y_test,preds,)\n",
    "\n",
    "score "
   ]
  },
  {
   "cell_type": "markdown",
   "metadata": {},
   "source": [
    "## Using Catboost"
   ]
  },
  {
   "cell_type": "code",
   "execution_count": null,
   "metadata": {},
   "outputs": [],
   "source": [
    "!pip install catboost"
   ]
  },
  {
   "cell_type": "code",
   "execution_count": 35,
   "metadata": {},
   "outputs": [],
   "source": [
    "import catboost as clf\n",
    "from catboost import CatBoostClassifier"
   ]
  },
  {
   "cell_type": "code",
   "execution_count": 36,
   "metadata": {},
   "outputs": [],
   "source": [
    "from imblearn import over_sampling\n",
    "from imblearn.over_sampling import SMOTE\n",
    "oversample=SMOTE()\n",
    "X_train,y_train=oversample.fit_resample(X_train,y_train)"
   ]
  },
  {
   "cell_type": "code",
   "execution_count": 37,
   "metadata": {},
   "outputs": [
    {
     "name": "stdout",
     "output_type": "stream",
     "text": [
      "Learning rate set to 0.029978\n",
      "0:\tlearn: 0.6729107\ttotal: 228ms\tremaining: 3m 47s\n",
      "1:\tlearn: 0.6536065\ttotal: 266ms\tremaining: 2m 12s\n",
      "2:\tlearn: 0.6376268\ttotal: 296ms\tremaining: 1m 38s\n",
      "3:\tlearn: 0.6210441\ttotal: 330ms\tremaining: 1m 22s\n",
      "4:\tlearn: 0.6087147\ttotal: 357ms\tremaining: 1m 11s\n",
      "5:\tlearn: 0.5973086\ttotal: 383ms\tremaining: 1m 3s\n",
      "6:\tlearn: 0.5863635\ttotal: 408ms\tremaining: 57.9s\n",
      "7:\tlearn: 0.5750870\ttotal: 445ms\tremaining: 55.2s\n",
      "8:\tlearn: 0.5646530\ttotal: 477ms\tremaining: 52.6s\n",
      "9:\tlearn: 0.5562905\ttotal: 503ms\tremaining: 49.8s\n",
      "10:\tlearn: 0.5473116\ttotal: 532ms\tremaining: 47.8s\n",
      "11:\tlearn: 0.5391586\ttotal: 558ms\tremaining: 45.9s\n",
      "12:\tlearn: 0.5306327\ttotal: 587ms\tremaining: 44.6s\n",
      "13:\tlearn: 0.5243723\ttotal: 619ms\tremaining: 43.6s\n",
      "14:\tlearn: 0.5184207\ttotal: 651ms\tremaining: 42.8s\n",
      "15:\tlearn: 0.5127558\ttotal: 691ms\tremaining: 42.5s\n",
      "16:\tlearn: 0.5071054\ttotal: 726ms\tremaining: 42s\n",
      "17:\tlearn: 0.5017502\ttotal: 765ms\tremaining: 41.7s\n",
      "18:\tlearn: 0.4969502\ttotal: 794ms\tremaining: 41s\n",
      "19:\tlearn: 0.4923156\ttotal: 823ms\tremaining: 40.3s\n",
      "20:\tlearn: 0.4880356\ttotal: 910ms\tremaining: 42.4s\n",
      "21:\tlearn: 0.4840124\ttotal: 957ms\tremaining: 42.5s\n",
      "22:\tlearn: 0.4799354\ttotal: 991ms\tremaining: 42.1s\n",
      "23:\tlearn: 0.4766640\ttotal: 1.02s\tremaining: 41.7s\n",
      "24:\tlearn: 0.4734819\ttotal: 1.06s\tremaining: 41.3s\n",
      "25:\tlearn: 0.4696315\ttotal: 1.09s\tremaining: 40.7s\n",
      "26:\tlearn: 0.4665803\ttotal: 1.13s\tremaining: 40.6s\n",
      "27:\tlearn: 0.4633728\ttotal: 1.16s\tremaining: 40.4s\n",
      "28:\tlearn: 0.4597446\ttotal: 1.2s\tremaining: 40.1s\n",
      "29:\tlearn: 0.4562100\ttotal: 1.23s\tremaining: 39.8s\n",
      "30:\tlearn: 0.4538448\ttotal: 1.27s\tremaining: 39.6s\n",
      "31:\tlearn: 0.4513046\ttotal: 1.32s\tremaining: 39.9s\n",
      "32:\tlearn: 0.4489638\ttotal: 1.36s\tremaining: 40s\n",
      "33:\tlearn: 0.4469677\ttotal: 1.4s\tremaining: 39.8s\n",
      "34:\tlearn: 0.4447892\ttotal: 1.43s\tremaining: 39.6s\n",
      "35:\tlearn: 0.4427421\ttotal: 1.47s\tremaining: 39.3s\n",
      "36:\tlearn: 0.4408169\ttotal: 1.51s\tremaining: 39.3s\n",
      "37:\tlearn: 0.4379319\ttotal: 1.55s\tremaining: 39.4s\n",
      "38:\tlearn: 0.4359311\ttotal: 1.58s\tremaining: 39s\n",
      "39:\tlearn: 0.4339246\ttotal: 1.61s\tremaining: 38.8s\n",
      "40:\tlearn: 0.4319095\ttotal: 1.66s\tremaining: 38.8s\n",
      "41:\tlearn: 0.4304280\ttotal: 1.7s\tremaining: 38.7s\n",
      "42:\tlearn: 0.4282444\ttotal: 1.74s\tremaining: 38.7s\n",
      "43:\tlearn: 0.4270256\ttotal: 1.78s\tremaining: 38.7s\n",
      "44:\tlearn: 0.4252181\ttotal: 1.83s\tremaining: 38.8s\n",
      "45:\tlearn: 0.4237506\ttotal: 1.88s\tremaining: 38.9s\n",
      "46:\tlearn: 0.4227416\ttotal: 1.92s\tremaining: 38.9s\n",
      "47:\tlearn: 0.4211851\ttotal: 1.96s\tremaining: 38.9s\n",
      "48:\tlearn: 0.4199667\ttotal: 2s\tremaining: 38.9s\n",
      "49:\tlearn: 0.4188215\ttotal: 2.05s\tremaining: 38.9s\n",
      "50:\tlearn: 0.4177726\ttotal: 2.08s\tremaining: 38.8s\n",
      "51:\tlearn: 0.4167466\ttotal: 2.12s\tremaining: 38.6s\n",
      "52:\tlearn: 0.4158153\ttotal: 2.15s\tremaining: 38.4s\n",
      "53:\tlearn: 0.4145609\ttotal: 2.19s\tremaining: 38.4s\n",
      "54:\tlearn: 0.4134000\ttotal: 2.24s\tremaining: 38.5s\n",
      "55:\tlearn: 0.4123086\ttotal: 2.3s\tremaining: 38.8s\n",
      "56:\tlearn: 0.4112460\ttotal: 2.36s\tremaining: 39s\n",
      "57:\tlearn: 0.4102059\ttotal: 2.41s\tremaining: 39.1s\n",
      "58:\tlearn: 0.4092396\ttotal: 2.48s\tremaining: 39.5s\n",
      "59:\tlearn: 0.4081280\ttotal: 2.51s\tremaining: 39.4s\n",
      "60:\tlearn: 0.4074435\ttotal: 2.55s\tremaining: 39.3s\n",
      "61:\tlearn: 0.4062251\ttotal: 2.58s\tremaining: 39s\n",
      "62:\tlearn: 0.4049828\ttotal: 2.61s\tremaining: 38.8s\n",
      "63:\tlearn: 0.4041825\ttotal: 2.65s\tremaining: 38.7s\n",
      "64:\tlearn: 0.4033418\ttotal: 2.69s\tremaining: 38.6s\n",
      "65:\tlearn: 0.4023900\ttotal: 2.72s\tremaining: 38.5s\n",
      "66:\tlearn: 0.4016733\ttotal: 2.75s\tremaining: 38.4s\n",
      "67:\tlearn: 0.4008338\ttotal: 2.83s\tremaining: 38.7s\n",
      "68:\tlearn: 0.3997907\ttotal: 2.86s\tremaining: 38.6s\n",
      "69:\tlearn: 0.3990382\ttotal: 2.9s\tremaining: 38.5s\n",
      "70:\tlearn: 0.3982990\ttotal: 2.94s\tremaining: 38.5s\n",
      "71:\tlearn: 0.3976631\ttotal: 2.97s\tremaining: 38.3s\n",
      "72:\tlearn: 0.3967269\ttotal: 3s\tremaining: 38.1s\n",
      "73:\tlearn: 0.3959835\ttotal: 3.03s\tremaining: 37.9s\n",
      "74:\tlearn: 0.3954076\ttotal: 3.06s\tremaining: 37.7s\n",
      "75:\tlearn: 0.3945595\ttotal: 3.09s\tremaining: 37.6s\n",
      "76:\tlearn: 0.3936887\ttotal: 3.14s\tremaining: 37.7s\n",
      "77:\tlearn: 0.3931463\ttotal: 3.17s\tremaining: 37.5s\n",
      "78:\tlearn: 0.3923036\ttotal: 3.2s\tremaining: 37.4s\n",
      "79:\tlearn: 0.3914449\ttotal: 3.23s\tremaining: 37.2s\n",
      "80:\tlearn: 0.3908587\ttotal: 3.28s\tremaining: 37.2s\n",
      "81:\tlearn: 0.3902476\ttotal: 3.32s\tremaining: 37.2s\n",
      "82:\tlearn: 0.3896827\ttotal: 3.35s\tremaining: 37.1s\n",
      "83:\tlearn: 0.3891437\ttotal: 3.38s\tremaining: 36.9s\n",
      "84:\tlearn: 0.3878641\ttotal: 3.41s\tremaining: 36.7s\n",
      "85:\tlearn: 0.3870174\ttotal: 3.44s\tremaining: 36.5s\n",
      "86:\tlearn: 0.3862783\ttotal: 3.46s\tremaining: 36.3s\n",
      "87:\tlearn: 0.3857127\ttotal: 3.5s\tremaining: 36.2s\n",
      "88:\tlearn: 0.3850164\ttotal: 3.53s\tremaining: 36.1s\n",
      "89:\tlearn: 0.3841969\ttotal: 3.56s\tremaining: 36s\n",
      "90:\tlearn: 0.3837402\ttotal: 3.58s\tremaining: 35.8s\n",
      "91:\tlearn: 0.3832489\ttotal: 3.62s\tremaining: 35.7s\n",
      "92:\tlearn: 0.3829051\ttotal: 3.65s\tremaining: 35.6s\n",
      "93:\tlearn: 0.3823634\ttotal: 3.68s\tremaining: 35.5s\n",
      "94:\tlearn: 0.3819067\ttotal: 3.72s\tremaining: 35.5s\n",
      "95:\tlearn: 0.3811903\ttotal: 3.76s\tremaining: 35.4s\n",
      "96:\tlearn: 0.3808145\ttotal: 3.79s\tremaining: 35.3s\n",
      "97:\tlearn: 0.3802444\ttotal: 3.82s\tremaining: 35.2s\n",
      "98:\tlearn: 0.3797231\ttotal: 3.85s\tremaining: 35.1s\n",
      "99:\tlearn: 0.3792261\ttotal: 3.88s\tremaining: 35s\n",
      "100:\tlearn: 0.3782205\ttotal: 3.91s\tremaining: 34.8s\n",
      "101:\tlearn: 0.3776620\ttotal: 3.94s\tremaining: 34.7s\n",
      "102:\tlearn: 0.3772382\ttotal: 3.98s\tremaining: 34.6s\n",
      "103:\tlearn: 0.3768261\ttotal: 4.01s\tremaining: 34.5s\n",
      "104:\tlearn: 0.3763616\ttotal: 4.04s\tremaining: 34.4s\n",
      "105:\tlearn: 0.3758574\ttotal: 4.06s\tremaining: 34.3s\n",
      "106:\tlearn: 0.3754545\ttotal: 4.09s\tremaining: 34.1s\n",
      "107:\tlearn: 0.3749881\ttotal: 4.12s\tremaining: 34s\n",
      "108:\tlearn: 0.3745157\ttotal: 4.15s\tremaining: 34s\n",
      "109:\tlearn: 0.3740583\ttotal: 4.2s\tremaining: 34s\n",
      "110:\tlearn: 0.3734550\ttotal: 4.24s\tremaining: 34s\n",
      "111:\tlearn: 0.3730158\ttotal: 4.28s\tremaining: 33.9s\n",
      "112:\tlearn: 0.3727357\ttotal: 4.31s\tremaining: 33.8s\n",
      "113:\tlearn: 0.3723393\ttotal: 4.34s\tremaining: 33.7s\n",
      "114:\tlearn: 0.3718967\ttotal: 4.38s\tremaining: 33.7s\n",
      "115:\tlearn: 0.3714577\ttotal: 4.41s\tremaining: 33.6s\n",
      "116:\tlearn: 0.3711668\ttotal: 4.45s\tremaining: 33.5s\n",
      "117:\tlearn: 0.3704953\ttotal: 4.48s\tremaining: 33.5s\n",
      "118:\tlearn: 0.3701817\ttotal: 4.52s\tremaining: 33.5s\n",
      "119:\tlearn: 0.3696830\ttotal: 4.56s\tremaining: 33.4s\n",
      "120:\tlearn: 0.3691464\ttotal: 4.6s\tremaining: 33.4s\n",
      "121:\tlearn: 0.3685719\ttotal: 4.63s\tremaining: 33.3s\n",
      "122:\tlearn: 0.3681627\ttotal: 4.67s\tremaining: 33.3s\n",
      "123:\tlearn: 0.3677054\ttotal: 4.7s\tremaining: 33.2s\n",
      "124:\tlearn: 0.3669851\ttotal: 4.73s\tremaining: 33.1s\n",
      "125:\tlearn: 0.3664433\ttotal: 4.76s\tremaining: 33.1s\n",
      "126:\tlearn: 0.3659748\ttotal: 4.8s\tremaining: 33s\n",
      "127:\tlearn: 0.3656485\ttotal: 4.84s\tremaining: 33s\n",
      "128:\tlearn: 0.3653294\ttotal: 4.88s\tremaining: 33s\n",
      "129:\tlearn: 0.3645737\ttotal: 4.92s\tremaining: 32.9s\n",
      "130:\tlearn: 0.3641326\ttotal: 4.95s\tremaining: 32.9s\n",
      "131:\tlearn: 0.3637227\ttotal: 4.99s\tremaining: 32.8s\n",
      "132:\tlearn: 0.3632131\ttotal: 5.02s\tremaining: 32.7s\n",
      "133:\tlearn: 0.3628701\ttotal: 5.06s\tremaining: 32.7s\n",
      "134:\tlearn: 0.3624082\ttotal: 5.09s\tremaining: 32.6s\n",
      "135:\tlearn: 0.3619454\ttotal: 5.13s\tremaining: 32.6s\n",
      "136:\tlearn: 0.3615297\ttotal: 5.16s\tremaining: 32.5s\n",
      "137:\tlearn: 0.3612561\ttotal: 5.21s\tremaining: 32.5s\n",
      "138:\tlearn: 0.3609998\ttotal: 5.24s\tremaining: 32.5s\n",
      "139:\tlearn: 0.3606163\ttotal: 5.28s\tremaining: 32.4s\n",
      "140:\tlearn: 0.3603140\ttotal: 5.32s\tremaining: 32.4s\n",
      "141:\tlearn: 0.3596291\ttotal: 5.36s\tremaining: 32.4s\n",
      "142:\tlearn: 0.3592795\ttotal: 5.39s\tremaining: 32.3s\n",
      "143:\tlearn: 0.3589755\ttotal: 5.43s\tremaining: 32.3s\n",
      "144:\tlearn: 0.3586483\ttotal: 5.46s\tremaining: 32.2s\n",
      "145:\tlearn: 0.3582907\ttotal: 5.5s\tremaining: 32.2s\n",
      "146:\tlearn: 0.3580386\ttotal: 5.53s\tremaining: 32.1s\n",
      "147:\tlearn: 0.3576846\ttotal: 5.57s\tremaining: 32s\n",
      "148:\tlearn: 0.3572845\ttotal: 5.6s\tremaining: 32s\n",
      "149:\tlearn: 0.3568035\ttotal: 5.63s\tremaining: 31.9s\n",
      "150:\tlearn: 0.3562989\ttotal: 5.67s\tremaining: 31.9s\n",
      "151:\tlearn: 0.3558995\ttotal: 5.7s\tremaining: 31.8s\n",
      "152:\tlearn: 0.3555410\ttotal: 5.74s\tremaining: 31.8s\n",
      "153:\tlearn: 0.3552699\ttotal: 5.78s\tremaining: 31.8s\n",
      "154:\tlearn: 0.3548623\ttotal: 5.82s\tremaining: 31.7s\n",
      "155:\tlearn: 0.3544126\ttotal: 5.86s\tremaining: 31.7s\n",
      "156:\tlearn: 0.3540817\ttotal: 5.89s\tremaining: 31.7s\n",
      "157:\tlearn: 0.3537275\ttotal: 5.93s\tremaining: 31.6s\n",
      "158:\tlearn: 0.3531410\ttotal: 5.97s\tremaining: 31.6s\n",
      "159:\tlearn: 0.3527609\ttotal: 6.01s\tremaining: 31.6s\n",
      "160:\tlearn: 0.3524713\ttotal: 6.05s\tremaining: 31.5s\n",
      "161:\tlearn: 0.3520686\ttotal: 6.09s\tremaining: 31.5s\n",
      "162:\tlearn: 0.3517742\ttotal: 6.12s\tremaining: 31.4s\n",
      "163:\tlearn: 0.3514747\ttotal: 6.15s\tremaining: 31.3s\n",
      "164:\tlearn: 0.3511130\ttotal: 6.18s\tremaining: 31.3s\n",
      "165:\tlearn: 0.3508307\ttotal: 6.22s\tremaining: 31.3s\n",
      "166:\tlearn: 0.3504524\ttotal: 6.25s\tremaining: 31.2s\n",
      "167:\tlearn: 0.3500596\ttotal: 6.28s\tremaining: 31.1s\n",
      "168:\tlearn: 0.3498038\ttotal: 6.31s\tremaining: 31s\n",
      "169:\tlearn: 0.3495047\ttotal: 6.34s\tremaining: 30.9s\n",
      "170:\tlearn: 0.3490949\ttotal: 6.37s\tremaining: 30.9s\n",
      "171:\tlearn: 0.3486522\ttotal: 6.4s\tremaining: 30.8s\n",
      "172:\tlearn: 0.3483608\ttotal: 6.44s\tremaining: 30.8s\n",
      "173:\tlearn: 0.3480825\ttotal: 6.47s\tremaining: 30.7s\n",
      "174:\tlearn: 0.3478290\ttotal: 6.53s\tremaining: 30.8s\n",
      "175:\tlearn: 0.3475470\ttotal: 6.57s\tremaining: 30.7s\n",
      "176:\tlearn: 0.3472263\ttotal: 6.6s\tremaining: 30.7s\n",
      "177:\tlearn: 0.3470056\ttotal: 6.64s\tremaining: 30.7s\n",
      "178:\tlearn: 0.3467982\ttotal: 6.68s\tremaining: 30.6s\n",
      "179:\tlearn: 0.3465727\ttotal: 6.71s\tremaining: 30.6s\n",
      "180:\tlearn: 0.3463149\ttotal: 6.74s\tremaining: 30.5s\n",
      "181:\tlearn: 0.3459519\ttotal: 6.77s\tremaining: 30.4s\n",
      "182:\tlearn: 0.3456225\ttotal: 6.81s\tremaining: 30.4s\n",
      "183:\tlearn: 0.3453026\ttotal: 6.85s\tremaining: 30.4s\n",
      "184:\tlearn: 0.3449829\ttotal: 6.9s\tremaining: 30.4s\n",
      "185:\tlearn: 0.3446419\ttotal: 6.93s\tremaining: 30.3s\n",
      "186:\tlearn: 0.3442929\ttotal: 6.97s\tremaining: 30.3s\n",
      "187:\tlearn: 0.3440293\ttotal: 7.01s\tremaining: 30.3s\n",
      "188:\tlearn: 0.3437540\ttotal: 7.05s\tremaining: 30.3s\n",
      "189:\tlearn: 0.3435393\ttotal: 7.08s\tremaining: 30.2s\n",
      "190:\tlearn: 0.3433754\ttotal: 7.12s\tremaining: 30.1s\n",
      "191:\tlearn: 0.3431564\ttotal: 7.15s\tremaining: 30.1s\n",
      "192:\tlearn: 0.3429107\ttotal: 7.18s\tremaining: 30s\n",
      "193:\tlearn: 0.3425972\ttotal: 7.22s\tremaining: 30s\n",
      "194:\tlearn: 0.3423635\ttotal: 7.26s\tremaining: 30s\n",
      "195:\tlearn: 0.3421034\ttotal: 7.29s\tremaining: 29.9s\n",
      "196:\tlearn: 0.3419115\ttotal: 7.33s\tremaining: 29.9s\n",
      "197:\tlearn: 0.3417023\ttotal: 7.36s\tremaining: 29.8s\n",
      "198:\tlearn: 0.3414272\ttotal: 7.4s\tremaining: 29.8s\n",
      "199:\tlearn: 0.3411536\ttotal: 7.42s\tremaining: 29.7s\n",
      "200:\tlearn: 0.3409653\ttotal: 7.45s\tremaining: 29.6s\n",
      "201:\tlearn: 0.3407048\ttotal: 7.49s\tremaining: 29.6s\n",
      "202:\tlearn: 0.3404046\ttotal: 7.52s\tremaining: 29.5s\n",
      "203:\tlearn: 0.3400303\ttotal: 7.55s\tremaining: 29.5s\n",
      "204:\tlearn: 0.3397628\ttotal: 7.59s\tremaining: 29.4s\n",
      "205:\tlearn: 0.3395487\ttotal: 7.62s\tremaining: 29.4s\n",
      "206:\tlearn: 0.3393299\ttotal: 7.66s\tremaining: 29.3s\n",
      "207:\tlearn: 0.3390868\ttotal: 7.7s\tremaining: 29.3s\n",
      "208:\tlearn: 0.3388267\ttotal: 7.73s\tremaining: 29.3s\n",
      "209:\tlearn: 0.3385453\ttotal: 7.76s\tremaining: 29.2s\n",
      "210:\tlearn: 0.3383737\ttotal: 7.8s\tremaining: 29.2s\n",
      "211:\tlearn: 0.3381545\ttotal: 7.83s\tremaining: 29.1s\n",
      "212:\tlearn: 0.3378245\ttotal: 7.89s\tremaining: 29.1s\n",
      "213:\tlearn: 0.3375892\ttotal: 7.92s\tremaining: 29.1s\n",
      "214:\tlearn: 0.3373457\ttotal: 7.96s\tremaining: 29.1s\n",
      "215:\tlearn: 0.3369373\ttotal: 8s\tremaining: 29s\n",
      "216:\tlearn: 0.3366343\ttotal: 8.03s\tremaining: 29s\n",
      "217:\tlearn: 0.3364000\ttotal: 8.06s\tremaining: 28.9s\n",
      "218:\tlearn: 0.3361717\ttotal: 8.1s\tremaining: 28.9s\n",
      "219:\tlearn: 0.3358846\ttotal: 8.13s\tremaining: 28.8s\n",
      "220:\tlearn: 0.3356292\ttotal: 8.16s\tremaining: 28.8s\n",
      "221:\tlearn: 0.3354127\ttotal: 8.2s\tremaining: 28.7s\n",
      "222:\tlearn: 0.3351470\ttotal: 8.23s\tremaining: 28.7s\n",
      "223:\tlearn: 0.3348975\ttotal: 8.26s\tremaining: 28.6s\n",
      "224:\tlearn: 0.3345506\ttotal: 8.3s\tremaining: 28.6s\n",
      "225:\tlearn: 0.3342017\ttotal: 8.34s\tremaining: 28.6s\n",
      "226:\tlearn: 0.3340458\ttotal: 8.37s\tremaining: 28.5s\n",
      "227:\tlearn: 0.3338306\ttotal: 8.4s\tremaining: 28.5s\n",
      "228:\tlearn: 0.3336136\ttotal: 8.45s\tremaining: 28.4s\n",
      "229:\tlearn: 0.3333028\ttotal: 8.51s\tremaining: 28.5s\n",
      "230:\tlearn: 0.3326362\ttotal: 8.55s\tremaining: 28.5s\n",
      "231:\tlearn: 0.3323998\ttotal: 8.59s\tremaining: 28.4s\n",
      "232:\tlearn: 0.3321668\ttotal: 8.62s\tremaining: 28.4s\n",
      "233:\tlearn: 0.3319687\ttotal: 8.65s\tremaining: 28.3s\n",
      "234:\tlearn: 0.3317324\ttotal: 8.67s\tremaining: 28.2s\n",
      "235:\tlearn: 0.3315209\ttotal: 8.7s\tremaining: 28.2s\n",
      "236:\tlearn: 0.3312595\ttotal: 8.73s\tremaining: 28.1s\n",
      "237:\tlearn: 0.3310829\ttotal: 8.76s\tremaining: 28.1s\n",
      "238:\tlearn: 0.3308557\ttotal: 8.79s\tremaining: 28s\n",
      "239:\tlearn: 0.3306321\ttotal: 8.82s\tremaining: 27.9s\n",
      "240:\tlearn: 0.3304057\ttotal: 8.85s\tremaining: 27.9s\n",
      "241:\tlearn: 0.3301460\ttotal: 8.88s\tremaining: 27.8s\n",
      "242:\tlearn: 0.3299741\ttotal: 8.9s\tremaining: 27.7s\n",
      "243:\tlearn: 0.3294164\ttotal: 8.93s\tremaining: 27.7s\n",
      "244:\tlearn: 0.3291499\ttotal: 8.97s\tremaining: 27.6s\n",
      "245:\tlearn: 0.3286680\ttotal: 9.01s\tremaining: 27.6s\n",
      "246:\tlearn: 0.3278645\ttotal: 9.04s\tremaining: 27.6s\n",
      "247:\tlearn: 0.3276183\ttotal: 9.07s\tremaining: 27.5s\n",
      "248:\tlearn: 0.3272941\ttotal: 9.11s\tremaining: 27.5s\n",
      "249:\tlearn: 0.3270562\ttotal: 9.14s\tremaining: 27.4s\n",
      "250:\tlearn: 0.3268338\ttotal: 9.18s\tremaining: 27.4s\n",
      "251:\tlearn: 0.3266026\ttotal: 9.21s\tremaining: 27.3s\n",
      "252:\tlearn: 0.3263420\ttotal: 9.24s\tremaining: 27.3s\n",
      "253:\tlearn: 0.3262474\ttotal: 9.27s\tremaining: 27.2s\n",
      "254:\tlearn: 0.3259402\ttotal: 9.3s\tremaining: 27.2s\n",
      "255:\tlearn: 0.3257392\ttotal: 9.33s\tremaining: 27.1s\n",
      "256:\tlearn: 0.3255334\ttotal: 9.36s\tremaining: 27.1s\n",
      "257:\tlearn: 0.3252739\ttotal: 9.39s\tremaining: 27s\n",
      "258:\tlearn: 0.3249880\ttotal: 9.42s\tremaining: 27s\n",
      "259:\tlearn: 0.3247537\ttotal: 9.45s\tremaining: 26.9s\n",
      "260:\tlearn: 0.3244846\ttotal: 9.47s\tremaining: 26.8s\n",
      "261:\tlearn: 0.3242906\ttotal: 9.5s\tremaining: 26.8s\n",
      "262:\tlearn: 0.3241055\ttotal: 9.53s\tremaining: 26.7s\n",
      "263:\tlearn: 0.3239111\ttotal: 9.56s\tremaining: 26.7s\n",
      "264:\tlearn: 0.3236824\ttotal: 9.59s\tremaining: 26.6s\n",
      "265:\tlearn: 0.3234852\ttotal: 9.62s\tremaining: 26.5s\n",
      "266:\tlearn: 0.3233204\ttotal: 9.65s\tremaining: 26.5s\n",
      "267:\tlearn: 0.3230683\ttotal: 9.68s\tremaining: 26.4s\n",
      "268:\tlearn: 0.3227953\ttotal: 9.71s\tremaining: 26.4s\n",
      "269:\tlearn: 0.3226442\ttotal: 9.74s\tremaining: 26.3s\n",
      "270:\tlearn: 0.3223991\ttotal: 9.77s\tremaining: 26.3s\n",
      "271:\tlearn: 0.3221955\ttotal: 9.81s\tremaining: 26.2s\n",
      "272:\tlearn: 0.3219304\ttotal: 9.85s\tremaining: 26.2s\n",
      "273:\tlearn: 0.3218039\ttotal: 9.89s\tremaining: 26.2s\n",
      "274:\tlearn: 0.3215414\ttotal: 9.92s\tremaining: 26.2s\n",
      "275:\tlearn: 0.3213530\ttotal: 9.95s\tremaining: 26.1s\n",
      "276:\tlearn: 0.3211677\ttotal: 9.98s\tremaining: 26s\n",
      "277:\tlearn: 0.3208444\ttotal: 10s\tremaining: 26s\n",
      "278:\tlearn: 0.3206510\ttotal: 10s\tremaining: 25.9s\n",
      "279:\tlearn: 0.3204564\ttotal: 10.1s\tremaining: 25.9s\n",
      "280:\tlearn: 0.3202569\ttotal: 10.1s\tremaining: 25.9s\n",
      "281:\tlearn: 0.3200534\ttotal: 10.1s\tremaining: 25.8s\n",
      "282:\tlearn: 0.3198545\ttotal: 10.2s\tremaining: 25.7s\n",
      "283:\tlearn: 0.3196731\ttotal: 10.2s\tremaining: 25.7s\n",
      "284:\tlearn: 0.3194642\ttotal: 10.2s\tremaining: 25.6s\n",
      "285:\tlearn: 0.3192386\ttotal: 10.2s\tremaining: 25.6s\n",
      "286:\tlearn: 0.3190000\ttotal: 10.3s\tremaining: 25.5s\n",
      "287:\tlearn: 0.3186307\ttotal: 10.3s\tremaining: 25.5s\n",
      "288:\tlearn: 0.3184494\ttotal: 10.3s\tremaining: 25.4s\n",
      "289:\tlearn: 0.3182600\ttotal: 10.4s\tremaining: 25.4s\n",
      "290:\tlearn: 0.3179616\ttotal: 10.4s\tremaining: 25.3s\n",
      "291:\tlearn: 0.3176877\ttotal: 10.4s\tremaining: 25.2s\n",
      "292:\tlearn: 0.3173934\ttotal: 10.4s\tremaining: 25.2s\n",
      "293:\tlearn: 0.3172926\ttotal: 10.5s\tremaining: 25.2s\n",
      "294:\tlearn: 0.3170015\ttotal: 10.5s\tremaining: 25.1s\n",
      "295:\tlearn: 0.3167279\ttotal: 10.5s\tremaining: 25.1s\n",
      "296:\tlearn: 0.3164977\ttotal: 10.6s\tremaining: 25s\n",
      "297:\tlearn: 0.3162833\ttotal: 10.6s\tremaining: 24.9s\n",
      "298:\tlearn: 0.3159097\ttotal: 10.6s\tremaining: 24.9s\n",
      "299:\tlearn: 0.3156971\ttotal: 10.7s\tremaining: 24.9s\n",
      "300:\tlearn: 0.3155370\ttotal: 10.7s\tremaining: 24.8s\n",
      "301:\tlearn: 0.3153198\ttotal: 10.7s\tremaining: 24.8s\n",
      "302:\tlearn: 0.3150636\ttotal: 10.7s\tremaining: 24.7s\n",
      "303:\tlearn: 0.3148366\ttotal: 10.8s\tremaining: 24.7s\n",
      "304:\tlearn: 0.3145817\ttotal: 10.8s\tremaining: 24.6s\n",
      "305:\tlearn: 0.3143048\ttotal: 10.8s\tremaining: 24.6s\n",
      "306:\tlearn: 0.3141235\ttotal: 10.9s\tremaining: 24.5s\n",
      "307:\tlearn: 0.3139182\ttotal: 10.9s\tremaining: 24.5s\n",
      "308:\tlearn: 0.3132648\ttotal: 10.9s\tremaining: 24.5s\n",
      "309:\tlearn: 0.3130666\ttotal: 11s\tremaining: 24.4s\n",
      "310:\tlearn: 0.3128609\ttotal: 11s\tremaining: 24.4s\n",
      "311:\tlearn: 0.3126558\ttotal: 11s\tremaining: 24.3s\n",
      "312:\tlearn: 0.3124703\ttotal: 11.1s\tremaining: 24.3s\n",
      "313:\tlearn: 0.3121242\ttotal: 11.1s\tremaining: 24.3s\n",
      "314:\tlearn: 0.3119500\ttotal: 11.1s\tremaining: 24.2s\n",
      "315:\tlearn: 0.3117729\ttotal: 11.2s\tremaining: 24.2s\n",
      "316:\tlearn: 0.3116244\ttotal: 11.2s\tremaining: 24.1s\n",
      "317:\tlearn: 0.3114365\ttotal: 11.2s\tremaining: 24.1s\n",
      "318:\tlearn: 0.3111801\ttotal: 11.2s\tremaining: 24s\n",
      "319:\tlearn: 0.3109693\ttotal: 11.3s\tremaining: 23.9s\n",
      "320:\tlearn: 0.3107639\ttotal: 11.3s\tremaining: 23.9s\n",
      "321:\tlearn: 0.3106207\ttotal: 11.3s\tremaining: 23.9s\n",
      "322:\tlearn: 0.3102609\ttotal: 11.4s\tremaining: 23.8s\n",
      "323:\tlearn: 0.3096819\ttotal: 11.4s\tremaining: 23.8s\n",
      "324:\tlearn: 0.3094481\ttotal: 11.4s\tremaining: 23.7s\n",
      "325:\tlearn: 0.3092606\ttotal: 11.4s\tremaining: 23.7s\n",
      "326:\tlearn: 0.3090789\ttotal: 11.5s\tremaining: 23.6s\n",
      "327:\tlearn: 0.3088839\ttotal: 11.5s\tremaining: 23.6s\n",
      "328:\tlearn: 0.3086948\ttotal: 11.5s\tremaining: 23.5s\n",
      "329:\tlearn: 0.3083868\ttotal: 11.6s\tremaining: 23.5s\n",
      "330:\tlearn: 0.3081586\ttotal: 11.6s\tremaining: 23.4s\n",
      "331:\tlearn: 0.3080034\ttotal: 11.6s\tremaining: 23.4s\n",
      "332:\tlearn: 0.3077816\ttotal: 11.6s\tremaining: 23.3s\n",
      "333:\tlearn: 0.3075704\ttotal: 11.7s\tremaining: 23.3s\n",
      "334:\tlearn: 0.3073332\ttotal: 11.7s\tremaining: 23.2s\n",
      "335:\tlearn: 0.3071267\ttotal: 11.7s\tremaining: 23.2s\n",
      "336:\tlearn: 0.3068822\ttotal: 11.8s\tremaining: 23.1s\n",
      "337:\tlearn: 0.3066582\ttotal: 11.8s\tremaining: 23.1s\n",
      "338:\tlearn: 0.3063247\ttotal: 11.8s\tremaining: 23.1s\n",
      "339:\tlearn: 0.3059779\ttotal: 11.8s\tremaining: 23s\n",
      "340:\tlearn: 0.3057588\ttotal: 11.9s\tremaining: 23s\n",
      "341:\tlearn: 0.3055844\ttotal: 11.9s\tremaining: 22.9s\n",
      "342:\tlearn: 0.3054487\ttotal: 12s\tremaining: 22.9s\n",
      "343:\tlearn: 0.3052405\ttotal: 12s\tremaining: 22.9s\n",
      "344:\tlearn: 0.3050795\ttotal: 12s\tremaining: 22.9s\n",
      "345:\tlearn: 0.3048506\ttotal: 12.1s\tremaining: 22.8s\n",
      "346:\tlearn: 0.3046625\ttotal: 12.1s\tremaining: 22.8s\n",
      "347:\tlearn: 0.3043998\ttotal: 12.1s\tremaining: 22.7s\n",
      "348:\tlearn: 0.3041773\ttotal: 12.2s\tremaining: 22.7s\n",
      "349:\tlearn: 0.3039003\ttotal: 12.2s\tremaining: 22.7s\n",
      "350:\tlearn: 0.3033306\ttotal: 12.2s\tremaining: 22.6s\n",
      "351:\tlearn: 0.3031880\ttotal: 12.3s\tremaining: 22.6s\n",
      "352:\tlearn: 0.3028832\ttotal: 12.3s\tremaining: 22.5s\n",
      "353:\tlearn: 0.3026700\ttotal: 12.3s\tremaining: 22.5s\n",
      "354:\tlearn: 0.3024594\ttotal: 12.4s\tremaining: 22.4s\n",
      "355:\tlearn: 0.3022326\ttotal: 12.4s\tremaining: 22.4s\n",
      "356:\tlearn: 0.3019342\ttotal: 12.4s\tremaining: 22.4s\n",
      "357:\tlearn: 0.3017170\ttotal: 12.5s\tremaining: 22.3s\n",
      "358:\tlearn: 0.3015381\ttotal: 12.5s\tremaining: 22.3s\n",
      "359:\tlearn: 0.3013560\ttotal: 12.5s\tremaining: 22.2s\n",
      "360:\tlearn: 0.3011858\ttotal: 12.5s\tremaining: 22.2s\n",
      "361:\tlearn: 0.3009977\ttotal: 12.6s\tremaining: 22.2s\n",
      "362:\tlearn: 0.3007180\ttotal: 12.6s\tremaining: 22.1s\n",
      "363:\tlearn: 0.3003738\ttotal: 12.6s\tremaining: 22.1s\n",
      "364:\tlearn: 0.3002027\ttotal: 12.7s\tremaining: 22.1s\n",
      "365:\tlearn: 0.3000032\ttotal: 12.7s\tremaining: 22s\n",
      "366:\tlearn: 0.2998544\ttotal: 12.7s\tremaining: 22s\n",
      "367:\tlearn: 0.2996864\ttotal: 12.8s\tremaining: 22s\n",
      "368:\tlearn: 0.2994452\ttotal: 12.8s\tremaining: 21.9s\n",
      "369:\tlearn: 0.2992470\ttotal: 12.9s\tremaining: 21.9s\n",
      "370:\tlearn: 0.2991025\ttotal: 12.9s\tremaining: 21.8s\n",
      "371:\tlearn: 0.2989039\ttotal: 12.9s\tremaining: 21.8s\n",
      "372:\tlearn: 0.2987088\ttotal: 13s\tremaining: 21.8s\n",
      "373:\tlearn: 0.2983767\ttotal: 13s\tremaining: 21.7s\n",
      "374:\tlearn: 0.2981631\ttotal: 13s\tremaining: 21.7s\n",
      "375:\tlearn: 0.2980166\ttotal: 13.1s\tremaining: 21.7s\n",
      "376:\tlearn: 0.2978316\ttotal: 13.1s\tremaining: 21.6s\n",
      "377:\tlearn: 0.2976696\ttotal: 13.1s\tremaining: 21.6s\n",
      "378:\tlearn: 0.2975140\ttotal: 13.1s\tremaining: 21.5s\n",
      "379:\tlearn: 0.2971454\ttotal: 13.2s\tremaining: 21.5s\n",
      "380:\tlearn: 0.2969059\ttotal: 13.2s\tremaining: 21.4s\n",
      "381:\tlearn: 0.2967005\ttotal: 13.2s\tremaining: 21.4s\n",
      "382:\tlearn: 0.2964684\ttotal: 13.3s\tremaining: 21.4s\n",
      "383:\tlearn: 0.2962352\ttotal: 13.3s\tremaining: 21.3s\n",
      "384:\tlearn: 0.2960787\ttotal: 13.3s\tremaining: 21.3s\n",
      "385:\tlearn: 0.2957372\ttotal: 13.4s\tremaining: 21.3s\n",
      "386:\tlearn: 0.2954578\ttotal: 13.4s\tremaining: 21.2s\n",
      "387:\tlearn: 0.2952482\ttotal: 13.4s\tremaining: 21.2s\n",
      "388:\tlearn: 0.2950676\ttotal: 13.5s\tremaining: 21.1s\n",
      "389:\tlearn: 0.2948747\ttotal: 13.5s\tremaining: 21.1s\n",
      "390:\tlearn: 0.2946657\ttotal: 13.5s\tremaining: 21.1s\n",
      "391:\tlearn: 0.2944959\ttotal: 13.5s\tremaining: 21s\n",
      "392:\tlearn: 0.2942706\ttotal: 13.6s\tremaining: 21s\n",
      "393:\tlearn: 0.2940644\ttotal: 13.6s\tremaining: 20.9s\n",
      "394:\tlearn: 0.2938815\ttotal: 13.6s\tremaining: 20.9s\n",
      "395:\tlearn: 0.2937102\ttotal: 13.7s\tremaining: 20.8s\n",
      "396:\tlearn: 0.2935194\ttotal: 13.7s\tremaining: 20.8s\n",
      "397:\tlearn: 0.2933340\ttotal: 13.7s\tremaining: 20.8s\n",
      "398:\tlearn: 0.2931998\ttotal: 13.8s\tremaining: 20.7s\n",
      "399:\tlearn: 0.2930352\ttotal: 13.8s\tremaining: 20.7s\n",
      "400:\tlearn: 0.2928987\ttotal: 13.8s\tremaining: 20.6s\n",
      "401:\tlearn: 0.2927519\ttotal: 13.8s\tremaining: 20.6s\n",
      "402:\tlearn: 0.2925350\ttotal: 13.9s\tremaining: 20.5s\n",
      "403:\tlearn: 0.2922968\ttotal: 13.9s\tremaining: 20.5s\n",
      "404:\tlearn: 0.2920934\ttotal: 13.9s\tremaining: 20.5s\n",
      "405:\tlearn: 0.2918400\ttotal: 14s\tremaining: 20.4s\n",
      "406:\tlearn: 0.2914367\ttotal: 14s\tremaining: 20.4s\n",
      "407:\tlearn: 0.2911796\ttotal: 14s\tremaining: 20.3s\n",
      "408:\tlearn: 0.2910000\ttotal: 14s\tremaining: 20.3s\n",
      "409:\tlearn: 0.2908391\ttotal: 14.1s\tremaining: 20.2s\n",
      "410:\tlearn: 0.2906101\ttotal: 14.1s\tremaining: 20.2s\n",
      "411:\tlearn: 0.2904137\ttotal: 14.1s\tremaining: 20.2s\n",
      "412:\tlearn: 0.2901539\ttotal: 14.2s\tremaining: 20.1s\n",
      "413:\tlearn: 0.2899693\ttotal: 14.2s\tremaining: 20.1s\n",
      "414:\tlearn: 0.2897086\ttotal: 14.2s\tremaining: 20s\n",
      "415:\tlearn: 0.2894801\ttotal: 14.2s\tremaining: 20s\n",
      "416:\tlearn: 0.2892133\ttotal: 14.3s\tremaining: 19.9s\n",
      "417:\tlearn: 0.2890054\ttotal: 14.3s\tremaining: 19.9s\n",
      "418:\tlearn: 0.2888128\ttotal: 14.3s\tremaining: 19.9s\n",
      "419:\tlearn: 0.2886203\ttotal: 14.4s\tremaining: 19.8s\n",
      "420:\tlearn: 0.2884273\ttotal: 14.4s\tremaining: 19.8s\n",
      "421:\tlearn: 0.2882367\ttotal: 14.4s\tremaining: 19.7s\n",
      "422:\tlearn: 0.2880570\ttotal: 14.4s\tremaining: 19.7s\n",
      "423:\tlearn: 0.2878813\ttotal: 14.5s\tremaining: 19.7s\n",
      "424:\tlearn: 0.2872322\ttotal: 14.5s\tremaining: 19.7s\n",
      "425:\tlearn: 0.2870510\ttotal: 14.6s\tremaining: 19.6s\n",
      "426:\tlearn: 0.2868970\ttotal: 14.6s\tremaining: 19.6s\n",
      "427:\tlearn: 0.2867053\ttotal: 14.7s\tremaining: 19.6s\n",
      "428:\tlearn: 0.2865703\ttotal: 14.7s\tremaining: 19.6s\n",
      "429:\tlearn: 0.2863728\ttotal: 14.7s\tremaining: 19.5s\n",
      "430:\tlearn: 0.2861931\ttotal: 14.8s\tremaining: 19.5s\n",
      "431:\tlearn: 0.2860063\ttotal: 14.8s\tremaining: 19.5s\n",
      "432:\tlearn: 0.2858258\ttotal: 14.8s\tremaining: 19.4s\n",
      "433:\tlearn: 0.2856265\ttotal: 14.9s\tremaining: 19.4s\n",
      "434:\tlearn: 0.2854313\ttotal: 14.9s\tremaining: 19.3s\n",
      "435:\tlearn: 0.2852473\ttotal: 14.9s\tremaining: 19.3s\n",
      "436:\tlearn: 0.2850419\ttotal: 14.9s\tremaining: 19.2s\n",
      "437:\tlearn: 0.2848697\ttotal: 15s\tremaining: 19.2s\n",
      "438:\tlearn: 0.2846829\ttotal: 15s\tremaining: 19.2s\n",
      "439:\tlearn: 0.2845138\ttotal: 15s\tremaining: 19.1s\n",
      "440:\tlearn: 0.2843479\ttotal: 15s\tremaining: 19.1s\n",
      "441:\tlearn: 0.2841971\ttotal: 15.1s\tremaining: 19s\n",
      "442:\tlearn: 0.2837799\ttotal: 15.1s\tremaining: 19s\n",
      "443:\tlearn: 0.2836111\ttotal: 15.1s\tremaining: 18.9s\n",
      "444:\tlearn: 0.2832801\ttotal: 15.2s\tremaining: 18.9s\n",
      "445:\tlearn: 0.2831090\ttotal: 15.2s\tremaining: 18.9s\n",
      "446:\tlearn: 0.2828985\ttotal: 15.2s\tremaining: 18.8s\n",
      "447:\tlearn: 0.2827154\ttotal: 15.3s\tremaining: 18.8s\n",
      "448:\tlearn: 0.2825156\ttotal: 15.3s\tremaining: 18.7s\n",
      "449:\tlearn: 0.2822829\ttotal: 15.3s\tremaining: 18.7s\n",
      "450:\tlearn: 0.2820022\ttotal: 15.3s\tremaining: 18.7s\n",
      "451:\tlearn: 0.2818448\ttotal: 15.4s\tremaining: 18.6s\n",
      "452:\tlearn: 0.2816613\ttotal: 15.4s\tremaining: 18.6s\n",
      "453:\tlearn: 0.2814696\ttotal: 15.4s\tremaining: 18.5s\n",
      "454:\tlearn: 0.2812270\ttotal: 15.5s\tremaining: 18.5s\n",
      "455:\tlearn: 0.2810586\ttotal: 15.5s\tremaining: 18.5s\n",
      "456:\tlearn: 0.2808998\ttotal: 15.5s\tremaining: 18.4s\n",
      "457:\tlearn: 0.2807130\ttotal: 15.5s\tremaining: 18.4s\n",
      "458:\tlearn: 0.2805389\ttotal: 15.6s\tremaining: 18.4s\n",
      "459:\tlearn: 0.2803297\ttotal: 15.6s\tremaining: 18.3s\n",
      "460:\tlearn: 0.2801258\ttotal: 15.6s\tremaining: 18.3s\n",
      "461:\tlearn: 0.2799708\ttotal: 15.7s\tremaining: 18.3s\n",
      "462:\tlearn: 0.2797907\ttotal: 15.7s\tremaining: 18.2s\n",
      "463:\tlearn: 0.2796847\ttotal: 15.7s\tremaining: 18.2s\n",
      "464:\tlearn: 0.2795558\ttotal: 15.8s\tremaining: 18.1s\n",
      "465:\tlearn: 0.2793049\ttotal: 15.8s\tremaining: 18.1s\n",
      "466:\tlearn: 0.2791593\ttotal: 15.8s\tremaining: 18.1s\n",
      "467:\tlearn: 0.2789320\ttotal: 15.8s\tremaining: 18s\n",
      "468:\tlearn: 0.2787920\ttotal: 15.9s\tremaining: 18s\n",
      "469:\tlearn: 0.2786098\ttotal: 15.9s\tremaining: 17.9s\n",
      "470:\tlearn: 0.2784724\ttotal: 15.9s\tremaining: 17.9s\n",
      "471:\tlearn: 0.2782543\ttotal: 15.9s\tremaining: 17.8s\n",
      "472:\tlearn: 0.2780624\ttotal: 16s\tremaining: 17.8s\n",
      "473:\tlearn: 0.2778756\ttotal: 16s\tremaining: 17.8s\n",
      "474:\tlearn: 0.2777416\ttotal: 16s\tremaining: 17.7s\n",
      "475:\tlearn: 0.2775316\ttotal: 16.1s\tremaining: 17.7s\n",
      "476:\tlearn: 0.2773678\ttotal: 16.1s\tremaining: 17.6s\n",
      "477:\tlearn: 0.2771844\ttotal: 16.1s\tremaining: 17.6s\n",
      "478:\tlearn: 0.2770390\ttotal: 16.1s\tremaining: 17.6s\n",
      "479:\tlearn: 0.2768229\ttotal: 16.2s\tremaining: 17.5s\n",
      "480:\tlearn: 0.2766624\ttotal: 16.2s\tremaining: 17.5s\n",
      "481:\tlearn: 0.2764826\ttotal: 16.2s\tremaining: 17.4s\n",
      "482:\tlearn: 0.2763135\ttotal: 16.3s\tremaining: 17.4s\n",
      "483:\tlearn: 0.2761654\ttotal: 16.3s\tremaining: 17.4s\n",
      "484:\tlearn: 0.2757918\ttotal: 16.3s\tremaining: 17.3s\n",
      "485:\tlearn: 0.2755905\ttotal: 16.3s\tremaining: 17.3s\n",
      "486:\tlearn: 0.2754453\ttotal: 16.4s\tremaining: 17.2s\n",
      "487:\tlearn: 0.2753002\ttotal: 16.4s\tremaining: 17.2s\n",
      "488:\tlearn: 0.2751691\ttotal: 16.4s\tremaining: 17.2s\n",
      "489:\tlearn: 0.2749841\ttotal: 16.5s\tremaining: 17.1s\n",
      "490:\tlearn: 0.2748590\ttotal: 16.5s\tremaining: 17.1s\n",
      "491:\tlearn: 0.2747568\ttotal: 16.5s\tremaining: 17s\n",
      "492:\tlearn: 0.2746138\ttotal: 16.5s\tremaining: 17s\n",
      "493:\tlearn: 0.2742925\ttotal: 16.6s\tremaining: 17s\n",
      "494:\tlearn: 0.2741197\ttotal: 16.6s\tremaining: 16.9s\n",
      "495:\tlearn: 0.2739025\ttotal: 16.6s\tremaining: 16.9s\n",
      "496:\tlearn: 0.2737079\ttotal: 16.6s\tremaining: 16.8s\n",
      "497:\tlearn: 0.2735904\ttotal: 16.7s\tremaining: 16.8s\n",
      "498:\tlearn: 0.2734255\ttotal: 16.7s\tremaining: 16.8s\n",
      "499:\tlearn: 0.2732321\ttotal: 16.7s\tremaining: 16.7s\n",
      "500:\tlearn: 0.2730008\ttotal: 16.8s\tremaining: 16.7s\n",
      "501:\tlearn: 0.2726770\ttotal: 16.8s\tremaining: 16.7s\n",
      "502:\tlearn: 0.2725160\ttotal: 16.8s\tremaining: 16.6s\n",
      "503:\tlearn: 0.2723266\ttotal: 16.9s\tremaining: 16.6s\n",
      "504:\tlearn: 0.2721634\ttotal: 16.9s\tremaining: 16.6s\n",
      "505:\tlearn: 0.2720057\ttotal: 16.9s\tremaining: 16.5s\n",
      "506:\tlearn: 0.2718513\ttotal: 17s\tremaining: 16.5s\n",
      "507:\tlearn: 0.2717035\ttotal: 17s\tremaining: 16.4s\n",
      "508:\tlearn: 0.2715128\ttotal: 17s\tremaining: 16.4s\n",
      "509:\tlearn: 0.2713050\ttotal: 17s\tremaining: 16.4s\n",
      "510:\tlearn: 0.2711706\ttotal: 17.1s\tremaining: 16.3s\n",
      "511:\tlearn: 0.2709837\ttotal: 17.1s\tremaining: 16.3s\n",
      "512:\tlearn: 0.2708025\ttotal: 17.1s\tremaining: 16.3s\n",
      "513:\tlearn: 0.2705133\ttotal: 17.2s\tremaining: 16.2s\n",
      "514:\tlearn: 0.2703323\ttotal: 17.2s\tremaining: 16.2s\n",
      "515:\tlearn: 0.2701551\ttotal: 17.2s\tremaining: 16.1s\n",
      "516:\tlearn: 0.2700122\ttotal: 17.2s\tremaining: 16.1s\n",
      "517:\tlearn: 0.2699155\ttotal: 17.3s\tremaining: 16.1s\n",
      "518:\tlearn: 0.2696701\ttotal: 17.3s\tremaining: 16s\n",
      "519:\tlearn: 0.2695087\ttotal: 17.3s\tremaining: 16s\n",
      "520:\tlearn: 0.2692902\ttotal: 17.4s\tremaining: 16s\n",
      "521:\tlearn: 0.2691673\ttotal: 17.4s\tremaining: 15.9s\n",
      "522:\tlearn: 0.2689842\ttotal: 17.4s\tremaining: 15.9s\n",
      "523:\tlearn: 0.2686428\ttotal: 17.4s\tremaining: 15.8s\n",
      "524:\tlearn: 0.2685286\ttotal: 17.5s\tremaining: 15.8s\n",
      "525:\tlearn: 0.2684123\ttotal: 17.5s\tremaining: 15.8s\n",
      "526:\tlearn: 0.2682562\ttotal: 17.5s\tremaining: 15.7s\n",
      "527:\tlearn: 0.2680978\ttotal: 17.6s\tremaining: 15.7s\n",
      "528:\tlearn: 0.2679044\ttotal: 17.6s\tremaining: 15.7s\n",
      "529:\tlearn: 0.2677522\ttotal: 17.6s\tremaining: 15.6s\n",
      "530:\tlearn: 0.2675930\ttotal: 17.7s\tremaining: 15.6s\n",
      "531:\tlearn: 0.2673041\ttotal: 17.7s\tremaining: 15.6s\n",
      "532:\tlearn: 0.2671476\ttotal: 17.7s\tremaining: 15.5s\n",
      "533:\tlearn: 0.2669459\ttotal: 17.8s\tremaining: 15.5s\n",
      "534:\tlearn: 0.2667596\ttotal: 17.8s\tremaining: 15.5s\n",
      "535:\tlearn: 0.2665804\ttotal: 17.8s\tremaining: 15.4s\n",
      "536:\tlearn: 0.2663954\ttotal: 17.9s\tremaining: 15.4s\n",
      "537:\tlearn: 0.2662505\ttotal: 17.9s\tremaining: 15.4s\n",
      "538:\tlearn: 0.2661174\ttotal: 17.9s\tremaining: 15.4s\n",
      "539:\tlearn: 0.2659588\ttotal: 18s\tremaining: 15.3s\n",
      "540:\tlearn: 0.2655186\ttotal: 18s\tremaining: 15.3s\n",
      "541:\tlearn: 0.2652787\ttotal: 18s\tremaining: 15.2s\n",
      "542:\tlearn: 0.2649449\ttotal: 18.1s\tremaining: 15.2s\n",
      "543:\tlearn: 0.2647463\ttotal: 18.1s\tremaining: 15.2s\n",
      "544:\tlearn: 0.2646307\ttotal: 18.1s\tremaining: 15.1s\n",
      "545:\tlearn: 0.2644700\ttotal: 18.2s\tremaining: 15.1s\n",
      "546:\tlearn: 0.2640911\ttotal: 18.2s\tremaining: 15.1s\n",
      "547:\tlearn: 0.2639558\ttotal: 18.2s\tremaining: 15s\n",
      "548:\tlearn: 0.2638096\ttotal: 18.2s\tremaining: 15s\n",
      "549:\tlearn: 0.2636385\ttotal: 18.3s\tremaining: 15s\n",
      "550:\tlearn: 0.2634233\ttotal: 18.3s\tremaining: 14.9s\n",
      "551:\tlearn: 0.2630014\ttotal: 18.3s\tremaining: 14.9s\n",
      "552:\tlearn: 0.2628638\ttotal: 18.4s\tremaining: 14.9s\n",
      "553:\tlearn: 0.2627546\ttotal: 18.4s\tremaining: 14.8s\n",
      "554:\tlearn: 0.2625592\ttotal: 18.5s\tremaining: 14.8s\n",
      "555:\tlearn: 0.2624163\ttotal: 18.5s\tremaining: 14.8s\n",
      "556:\tlearn: 0.2622982\ttotal: 18.5s\tremaining: 14.7s\n",
      "557:\tlearn: 0.2621605\ttotal: 18.5s\tremaining: 14.7s\n",
      "558:\tlearn: 0.2619831\ttotal: 18.6s\tremaining: 14.7s\n",
      "559:\tlearn: 0.2617645\ttotal: 18.6s\tremaining: 14.6s\n",
      "560:\tlearn: 0.2613707\ttotal: 18.6s\tremaining: 14.6s\n",
      "561:\tlearn: 0.2612393\ttotal: 18.7s\tremaining: 14.6s\n",
      "562:\tlearn: 0.2608876\ttotal: 18.7s\tremaining: 14.5s\n",
      "563:\tlearn: 0.2606609\ttotal: 18.8s\tremaining: 14.5s\n",
      "564:\tlearn: 0.2603438\ttotal: 18.8s\tremaining: 14.5s\n",
      "565:\tlearn: 0.2600657\ttotal: 18.8s\tremaining: 14.4s\n",
      "566:\tlearn: 0.2599012\ttotal: 18.9s\tremaining: 14.4s\n",
      "567:\tlearn: 0.2597407\ttotal: 18.9s\tremaining: 14.4s\n",
      "568:\tlearn: 0.2595806\ttotal: 18.9s\tremaining: 14.3s\n",
      "569:\tlearn: 0.2594303\ttotal: 19s\tremaining: 14.3s\n",
      "570:\tlearn: 0.2593160\ttotal: 19s\tremaining: 14.3s\n",
      "571:\tlearn: 0.2591790\ttotal: 19s\tremaining: 14.2s\n",
      "572:\tlearn: 0.2590382\ttotal: 19s\tremaining: 14.2s\n",
      "573:\tlearn: 0.2589248\ttotal: 19.1s\tremaining: 14.2s\n",
      "574:\tlearn: 0.2587485\ttotal: 19.1s\tremaining: 14.1s\n",
      "575:\tlearn: 0.2585732\ttotal: 19.1s\tremaining: 14.1s\n",
      "576:\tlearn: 0.2584325\ttotal: 19.2s\tremaining: 14.1s\n",
      "577:\tlearn: 0.2582485\ttotal: 19.2s\tremaining: 14s\n",
      "578:\tlearn: 0.2580851\ttotal: 19.2s\tremaining: 14s\n",
      "579:\tlearn: 0.2579587\ttotal: 19.3s\tremaining: 14s\n",
      "580:\tlearn: 0.2578269\ttotal: 19.3s\tremaining: 13.9s\n",
      "581:\tlearn: 0.2575343\ttotal: 19.4s\tremaining: 13.9s\n",
      "582:\tlearn: 0.2573428\ttotal: 19.4s\tremaining: 13.9s\n",
      "583:\tlearn: 0.2572177\ttotal: 19.4s\tremaining: 13.8s\n",
      "584:\tlearn: 0.2570900\ttotal: 19.5s\tremaining: 13.8s\n",
      "585:\tlearn: 0.2569843\ttotal: 19.5s\tremaining: 13.8s\n",
      "586:\tlearn: 0.2568670\ttotal: 19.5s\tremaining: 13.7s\n",
      "587:\tlearn: 0.2567609\ttotal: 19.6s\tremaining: 13.7s\n",
      "588:\tlearn: 0.2565941\ttotal: 19.6s\tremaining: 13.7s\n",
      "589:\tlearn: 0.2564409\ttotal: 19.6s\tremaining: 13.6s\n",
      "590:\tlearn: 0.2562534\ttotal: 19.6s\tremaining: 13.6s\n",
      "591:\tlearn: 0.2561064\ttotal: 19.7s\tremaining: 13.6s\n",
      "592:\tlearn: 0.2558716\ttotal: 19.7s\tremaining: 13.6s\n",
      "593:\tlearn: 0.2557627\ttotal: 19.8s\tremaining: 13.5s\n",
      "594:\tlearn: 0.2554487\ttotal: 19.9s\tremaining: 13.5s\n",
      "595:\tlearn: 0.2552799\ttotal: 19.9s\tremaining: 13.5s\n",
      "596:\tlearn: 0.2551236\ttotal: 19.9s\tremaining: 13.5s\n",
      "597:\tlearn: 0.2549878\ttotal: 20s\tremaining: 13.4s\n",
      "598:\tlearn: 0.2548663\ttotal: 20s\tremaining: 13.4s\n",
      "599:\tlearn: 0.2547220\ttotal: 20.1s\tremaining: 13.4s\n",
      "600:\tlearn: 0.2545826\ttotal: 20.1s\tremaining: 13.3s\n",
      "601:\tlearn: 0.2544655\ttotal: 20.1s\tremaining: 13.3s\n",
      "602:\tlearn: 0.2542333\ttotal: 20.1s\tremaining: 13.3s\n",
      "603:\tlearn: 0.2540376\ttotal: 20.2s\tremaining: 13.2s\n",
      "604:\tlearn: 0.2539210\ttotal: 20.2s\tremaining: 13.2s\n",
      "605:\tlearn: 0.2537949\ttotal: 20.2s\tremaining: 13.2s\n",
      "606:\tlearn: 0.2536492\ttotal: 20.3s\tremaining: 13.1s\n",
      "607:\tlearn: 0.2533910\ttotal: 20.3s\tremaining: 13.1s\n",
      "608:\tlearn: 0.2532421\ttotal: 20.3s\tremaining: 13.1s\n",
      "609:\tlearn: 0.2531180\ttotal: 20.4s\tremaining: 13s\n",
      "610:\tlearn: 0.2529642\ttotal: 20.4s\tremaining: 13s\n",
      "611:\tlearn: 0.2528708\ttotal: 20.4s\tremaining: 12.9s\n",
      "612:\tlearn: 0.2527289\ttotal: 20.5s\tremaining: 12.9s\n",
      "613:\tlearn: 0.2526218\ttotal: 20.5s\tremaining: 12.9s\n",
      "614:\tlearn: 0.2525234\ttotal: 20.5s\tremaining: 12.8s\n",
      "615:\tlearn: 0.2523794\ttotal: 20.5s\tremaining: 12.8s\n",
      "616:\tlearn: 0.2522099\ttotal: 20.6s\tremaining: 12.8s\n",
      "617:\tlearn: 0.2520956\ttotal: 20.6s\tremaining: 12.7s\n",
      "618:\tlearn: 0.2519697\ttotal: 20.6s\tremaining: 12.7s\n",
      "619:\tlearn: 0.2518324\ttotal: 20.7s\tremaining: 12.7s\n",
      "620:\tlearn: 0.2516689\ttotal: 20.7s\tremaining: 12.6s\n",
      "621:\tlearn: 0.2514345\ttotal: 20.7s\tremaining: 12.6s\n",
      "622:\tlearn: 0.2513170\ttotal: 20.8s\tremaining: 12.6s\n",
      "623:\tlearn: 0.2511772\ttotal: 20.8s\tremaining: 12.6s\n",
      "624:\tlearn: 0.2510351\ttotal: 20.9s\tremaining: 12.5s\n",
      "625:\tlearn: 0.2509314\ttotal: 20.9s\tremaining: 12.5s\n",
      "626:\tlearn: 0.2508010\ttotal: 21s\tremaining: 12.5s\n",
      "627:\tlearn: 0.2506772\ttotal: 21s\tremaining: 12.4s\n",
      "628:\tlearn: 0.2505306\ttotal: 21s\tremaining: 12.4s\n",
      "629:\tlearn: 0.2503563\ttotal: 21.1s\tremaining: 12.4s\n",
      "630:\tlearn: 0.2502826\ttotal: 21.1s\tremaining: 12.4s\n",
      "631:\tlearn: 0.2501433\ttotal: 21.2s\tremaining: 12.3s\n",
      "632:\tlearn: 0.2500202\ttotal: 21.2s\tremaining: 12.3s\n",
      "633:\tlearn: 0.2496650\ttotal: 21.2s\tremaining: 12.2s\n",
      "634:\tlearn: 0.2493783\ttotal: 21.2s\tremaining: 12.2s\n",
      "635:\tlearn: 0.2492811\ttotal: 21.3s\tremaining: 12.2s\n",
      "636:\tlearn: 0.2490496\ttotal: 21.3s\tremaining: 12.1s\n",
      "637:\tlearn: 0.2489387\ttotal: 21.4s\tremaining: 12.1s\n",
      "638:\tlearn: 0.2487865\ttotal: 21.4s\tremaining: 12.1s\n",
      "639:\tlearn: 0.2486514\ttotal: 21.4s\tremaining: 12s\n",
      "640:\tlearn: 0.2485018\ttotal: 21.4s\tremaining: 12s\n",
      "641:\tlearn: 0.2484103\ttotal: 21.5s\tremaining: 12s\n",
      "642:\tlearn: 0.2482753\ttotal: 21.5s\tremaining: 11.9s\n",
      "643:\tlearn: 0.2480987\ttotal: 21.5s\tremaining: 11.9s\n",
      "644:\tlearn: 0.2480031\ttotal: 21.6s\tremaining: 11.9s\n",
      "645:\tlearn: 0.2479197\ttotal: 21.6s\tremaining: 11.8s\n",
      "646:\tlearn: 0.2477686\ttotal: 21.6s\tremaining: 11.8s\n",
      "647:\tlearn: 0.2476412\ttotal: 21.7s\tremaining: 11.8s\n",
      "648:\tlearn: 0.2474894\ttotal: 21.7s\tremaining: 11.7s\n",
      "649:\tlearn: 0.2473583\ttotal: 21.7s\tremaining: 11.7s\n",
      "650:\tlearn: 0.2469273\ttotal: 21.8s\tremaining: 11.7s\n",
      "651:\tlearn: 0.2468357\ttotal: 21.8s\tremaining: 11.6s\n",
      "652:\tlearn: 0.2466238\ttotal: 21.8s\tremaining: 11.6s\n",
      "653:\tlearn: 0.2464982\ttotal: 21.9s\tremaining: 11.6s\n",
      "654:\tlearn: 0.2463960\ttotal: 21.9s\tremaining: 11.5s\n",
      "655:\tlearn: 0.2462018\ttotal: 21.9s\tremaining: 11.5s\n",
      "656:\tlearn: 0.2460547\ttotal: 22s\tremaining: 11.5s\n",
      "657:\tlearn: 0.2459052\ttotal: 22s\tremaining: 11.4s\n",
      "658:\tlearn: 0.2457835\ttotal: 22s\tremaining: 11.4s\n",
      "659:\tlearn: 0.2456307\ttotal: 22.1s\tremaining: 11.4s\n",
      "660:\tlearn: 0.2454395\ttotal: 22.1s\tremaining: 11.3s\n",
      "661:\tlearn: 0.2452995\ttotal: 22.1s\tremaining: 11.3s\n",
      "662:\tlearn: 0.2450901\ttotal: 22.2s\tremaining: 11.3s\n",
      "663:\tlearn: 0.2449405\ttotal: 22.2s\tremaining: 11.2s\n",
      "664:\tlearn: 0.2447601\ttotal: 22.3s\tremaining: 11.2s\n",
      "665:\tlearn: 0.2446259\ttotal: 22.3s\tremaining: 11.2s\n",
      "666:\tlearn: 0.2444301\ttotal: 22.3s\tremaining: 11.1s\n",
      "667:\tlearn: 0.2442894\ttotal: 22.3s\tremaining: 11.1s\n",
      "668:\tlearn: 0.2441735\ttotal: 22.4s\tremaining: 11.1s\n",
      "669:\tlearn: 0.2440459\ttotal: 22.4s\tremaining: 11s\n",
      "670:\tlearn: 0.2439018\ttotal: 22.4s\tremaining: 11s\n",
      "671:\tlearn: 0.2438116\ttotal: 22.5s\tremaining: 11s\n",
      "672:\tlearn: 0.2436652\ttotal: 22.5s\tremaining: 10.9s\n",
      "673:\tlearn: 0.2435214\ttotal: 22.5s\tremaining: 10.9s\n",
      "674:\tlearn: 0.2433555\ttotal: 22.6s\tremaining: 10.9s\n",
      "675:\tlearn: 0.2432557\ttotal: 22.6s\tremaining: 10.8s\n",
      "676:\tlearn: 0.2430597\ttotal: 22.6s\tremaining: 10.8s\n",
      "677:\tlearn: 0.2429300\ttotal: 22.6s\tremaining: 10.8s\n",
      "678:\tlearn: 0.2423520\ttotal: 22.7s\tremaining: 10.7s\n",
      "679:\tlearn: 0.2422632\ttotal: 22.7s\tremaining: 10.7s\n",
      "680:\tlearn: 0.2421568\ttotal: 22.7s\tremaining: 10.7s\n",
      "681:\tlearn: 0.2420370\ttotal: 22.8s\tremaining: 10.6s\n",
      "682:\tlearn: 0.2419241\ttotal: 22.8s\tremaining: 10.6s\n",
      "683:\tlearn: 0.2417791\ttotal: 22.8s\tremaining: 10.5s\n",
      "684:\tlearn: 0.2416747\ttotal: 22.9s\tremaining: 10.5s\n",
      "685:\tlearn: 0.2415796\ttotal: 22.9s\tremaining: 10.5s\n",
      "686:\tlearn: 0.2414320\ttotal: 22.9s\tremaining: 10.4s\n",
      "687:\tlearn: 0.2412445\ttotal: 23s\tremaining: 10.4s\n",
      "688:\tlearn: 0.2411530\ttotal: 23s\tremaining: 10.4s\n",
      "689:\tlearn: 0.2409027\ttotal: 23s\tremaining: 10.3s\n",
      "690:\tlearn: 0.2408033\ttotal: 23.1s\tremaining: 10.3s\n",
      "691:\tlearn: 0.2406275\ttotal: 23.1s\tremaining: 10.3s\n",
      "692:\tlearn: 0.2405354\ttotal: 23.1s\tremaining: 10.2s\n",
      "693:\tlearn: 0.2404445\ttotal: 23.1s\tremaining: 10.2s\n",
      "694:\tlearn: 0.2402431\ttotal: 23.2s\tremaining: 10.2s\n",
      "695:\tlearn: 0.2400937\ttotal: 23.2s\tremaining: 10.1s\n",
      "696:\tlearn: 0.2399985\ttotal: 23.2s\tremaining: 10.1s\n",
      "697:\tlearn: 0.2398541\ttotal: 23.3s\tremaining: 10.1s\n",
      "698:\tlearn: 0.2397393\ttotal: 23.3s\tremaining: 10s\n",
      "699:\tlearn: 0.2395983\ttotal: 23.3s\tremaining: 10s\n",
      "700:\tlearn: 0.2394782\ttotal: 23.4s\tremaining: 9.97s\n",
      "701:\tlearn: 0.2393497\ttotal: 23.4s\tremaining: 9.95s\n",
      "702:\tlearn: 0.2392235\ttotal: 23.5s\tremaining: 9.92s\n",
      "703:\tlearn: 0.2390880\ttotal: 23.6s\tremaining: 9.91s\n",
      "704:\tlearn: 0.2389733\ttotal: 23.6s\tremaining: 9.89s\n",
      "705:\tlearn: 0.2388724\ttotal: 23.7s\tremaining: 9.86s\n",
      "706:\tlearn: 0.2387783\ttotal: 23.7s\tremaining: 9.83s\n",
      "707:\tlearn: 0.2385957\ttotal: 23.8s\tremaining: 9.8s\n",
      "708:\tlearn: 0.2384275\ttotal: 23.8s\tremaining: 9.76s\n",
      "709:\tlearn: 0.2383208\ttotal: 23.8s\tremaining: 9.72s\n",
      "710:\tlearn: 0.2382037\ttotal: 23.8s\tremaining: 9.69s\n",
      "711:\tlearn: 0.2381082\ttotal: 23.9s\tremaining: 9.65s\n",
      "712:\tlearn: 0.2378904\ttotal: 23.9s\tremaining: 9.62s\n",
      "713:\tlearn: 0.2377894\ttotal: 23.9s\tremaining: 9.58s\n",
      "714:\tlearn: 0.2375767\ttotal: 24s\tremaining: 9.55s\n",
      "715:\tlearn: 0.2374614\ttotal: 24s\tremaining: 9.51s\n",
      "716:\tlearn: 0.2373722\ttotal: 24s\tremaining: 9.48s\n",
      "717:\tlearn: 0.2372491\ttotal: 24s\tremaining: 9.44s\n",
      "718:\tlearn: 0.2371016\ttotal: 24.1s\tremaining: 9.4s\n",
      "719:\tlearn: 0.2369631\ttotal: 24.1s\tremaining: 9.37s\n",
      "720:\tlearn: 0.2368031\ttotal: 24.1s\tremaining: 9.34s\n",
      "721:\tlearn: 0.2366150\ttotal: 24.2s\tremaining: 9.3s\n",
      "722:\tlearn: 0.2365199\ttotal: 24.2s\tremaining: 9.27s\n",
      "723:\tlearn: 0.2364322\ttotal: 24.2s\tremaining: 9.23s\n",
      "724:\tlearn: 0.2362283\ttotal: 24.2s\tremaining: 9.19s\n",
      "725:\tlearn: 0.2361024\ttotal: 24.3s\tremaining: 9.16s\n",
      "726:\tlearn: 0.2360238\ttotal: 24.3s\tremaining: 9.13s\n",
      "727:\tlearn: 0.2359437\ttotal: 24.4s\tremaining: 9.11s\n",
      "728:\tlearn: 0.2358364\ttotal: 24.5s\tremaining: 9.09s\n",
      "729:\tlearn: 0.2356943\ttotal: 24.5s\tremaining: 9.07s\n",
      "730:\tlearn: 0.2355757\ttotal: 24.6s\tremaining: 9.05s\n",
      "731:\tlearn: 0.2354914\ttotal: 24.7s\tremaining: 9.03s\n",
      "732:\tlearn: 0.2353783\ttotal: 24.7s\tremaining: 9.01s\n",
      "733:\tlearn: 0.2352872\ttotal: 24.8s\tremaining: 8.99s\n",
      "734:\tlearn: 0.2351269\ttotal: 24.8s\tremaining: 8.96s\n",
      "735:\tlearn: 0.2350410\ttotal: 24.9s\tremaining: 8.93s\n",
      "736:\tlearn: 0.2349255\ttotal: 24.9s\tremaining: 8.89s\n",
      "737:\tlearn: 0.2347734\ttotal: 24.9s\tremaining: 8.86s\n",
      "738:\tlearn: 0.2346427\ttotal: 25s\tremaining: 8.82s\n",
      "739:\tlearn: 0.2344950\ttotal: 25s\tremaining: 8.79s\n",
      "740:\tlearn: 0.2343709\ttotal: 25.1s\tremaining: 8.76s\n",
      "741:\tlearn: 0.2342731\ttotal: 25.1s\tremaining: 8.72s\n",
      "742:\tlearn: 0.2341720\ttotal: 25.1s\tremaining: 8.69s\n",
      "743:\tlearn: 0.2340234\ttotal: 25.1s\tremaining: 8.65s\n",
      "744:\tlearn: 0.2338876\ttotal: 25.2s\tremaining: 8.62s\n",
      "745:\tlearn: 0.2337823\ttotal: 25.2s\tremaining: 8.58s\n",
      "746:\tlearn: 0.2336638\ttotal: 25.2s\tremaining: 8.54s\n",
      "747:\tlearn: 0.2335149\ttotal: 25.3s\tremaining: 8.51s\n",
      "748:\tlearn: 0.2333358\ttotal: 25.3s\tremaining: 8.47s\n",
      "749:\tlearn: 0.2332500\ttotal: 25.3s\tremaining: 8.44s\n",
      "750:\tlearn: 0.2331261\ttotal: 25.3s\tremaining: 8.4s\n",
      "751:\tlearn: 0.2329630\ttotal: 25.4s\tremaining: 8.37s\n",
      "752:\tlearn: 0.2328431\ttotal: 25.4s\tremaining: 8.33s\n",
      "753:\tlearn: 0.2327009\ttotal: 25.4s\tremaining: 8.3s\n",
      "754:\tlearn: 0.2326164\ttotal: 25.5s\tremaining: 8.26s\n",
      "755:\tlearn: 0.2324343\ttotal: 25.5s\tremaining: 8.23s\n",
      "756:\tlearn: 0.2323267\ttotal: 25.5s\tremaining: 8.19s\n",
      "757:\tlearn: 0.2322224\ttotal: 25.6s\tremaining: 8.16s\n",
      "758:\tlearn: 0.2320931\ttotal: 25.6s\tremaining: 8.12s\n",
      "759:\tlearn: 0.2319471\ttotal: 25.6s\tremaining: 8.09s\n",
      "760:\tlearn: 0.2318420\ttotal: 25.6s\tremaining: 8.05s\n",
      "761:\tlearn: 0.2317539\ttotal: 25.7s\tremaining: 8.02s\n",
      "762:\tlearn: 0.2316153\ttotal: 25.7s\tremaining: 7.98s\n",
      "763:\tlearn: 0.2314861\ttotal: 25.7s\tremaining: 7.95s\n",
      "764:\tlearn: 0.2313664\ttotal: 25.8s\tremaining: 7.91s\n",
      "765:\tlearn: 0.2312556\ttotal: 25.8s\tremaining: 7.88s\n",
      "766:\tlearn: 0.2311452\ttotal: 25.8s\tremaining: 7.84s\n",
      "767:\tlearn: 0.2310521\ttotal: 25.8s\tremaining: 7.81s\n",
      "768:\tlearn: 0.2309233\ttotal: 25.9s\tremaining: 7.77s\n",
      "769:\tlearn: 0.2308222\ttotal: 25.9s\tremaining: 7.74s\n",
      "770:\tlearn: 0.2307244\ttotal: 25.9s\tremaining: 7.7s\n",
      "771:\tlearn: 0.2305872\ttotal: 26s\tremaining: 7.67s\n",
      "772:\tlearn: 0.2305065\ttotal: 26s\tremaining: 7.63s\n",
      "773:\tlearn: 0.2304136\ttotal: 26s\tremaining: 7.6s\n",
      "774:\tlearn: 0.2303004\ttotal: 26.1s\tremaining: 7.56s\n",
      "775:\tlearn: 0.2302404\ttotal: 26.1s\tremaining: 7.53s\n",
      "776:\tlearn: 0.2301166\ttotal: 26.1s\tremaining: 7.5s\n",
      "777:\tlearn: 0.2300158\ttotal: 26.1s\tremaining: 7.46s\n",
      "778:\tlearn: 0.2299211\ttotal: 26.2s\tremaining: 7.43s\n",
      "779:\tlearn: 0.2298134\ttotal: 26.2s\tremaining: 7.39s\n",
      "780:\tlearn: 0.2296880\ttotal: 26.2s\tremaining: 7.36s\n",
      "781:\tlearn: 0.2296163\ttotal: 26.3s\tremaining: 7.32s\n",
      "782:\tlearn: 0.2295480\ttotal: 26.3s\tremaining: 7.29s\n",
      "783:\tlearn: 0.2294207\ttotal: 26.3s\tremaining: 7.25s\n",
      "784:\tlearn: 0.2293030\ttotal: 26.4s\tremaining: 7.22s\n",
      "785:\tlearn: 0.2291999\ttotal: 26.4s\tremaining: 7.18s\n",
      "786:\tlearn: 0.2290731\ttotal: 26.4s\tremaining: 7.15s\n",
      "787:\tlearn: 0.2289024\ttotal: 26.4s\tremaining: 7.11s\n",
      "788:\tlearn: 0.2287118\ttotal: 26.5s\tremaining: 7.08s\n",
      "789:\tlearn: 0.2286141\ttotal: 26.5s\tremaining: 7.05s\n",
      "790:\tlearn: 0.2285053\ttotal: 26.6s\tremaining: 7.02s\n",
      "791:\tlearn: 0.2283886\ttotal: 26.6s\tremaining: 6.98s\n",
      "792:\tlearn: 0.2282942\ttotal: 26.6s\tremaining: 6.95s\n",
      "793:\tlearn: 0.2281866\ttotal: 26.7s\tremaining: 6.92s\n",
      "794:\tlearn: 0.2281031\ttotal: 26.7s\tremaining: 6.88s\n",
      "795:\tlearn: 0.2280058\ttotal: 26.7s\tremaining: 6.85s\n",
      "796:\tlearn: 0.2278745\ttotal: 26.8s\tremaining: 6.82s\n",
      "797:\tlearn: 0.2277754\ttotal: 26.8s\tremaining: 6.78s\n",
      "798:\tlearn: 0.2276893\ttotal: 26.8s\tremaining: 6.75s\n",
      "799:\tlearn: 0.2275669\ttotal: 26.9s\tremaining: 6.71s\n",
      "800:\tlearn: 0.2274658\ttotal: 26.9s\tremaining: 6.68s\n",
      "801:\tlearn: 0.2273614\ttotal: 26.9s\tremaining: 6.65s\n",
      "802:\tlearn: 0.2272527\ttotal: 27s\tremaining: 6.61s\n",
      "803:\tlearn: 0.2271783\ttotal: 27s\tremaining: 6.58s\n",
      "804:\tlearn: 0.2270557\ttotal: 27s\tremaining: 6.54s\n",
      "805:\tlearn: 0.2269734\ttotal: 27s\tremaining: 6.51s\n",
      "806:\tlearn: 0.2268550\ttotal: 27.1s\tremaining: 6.47s\n",
      "807:\tlearn: 0.2267339\ttotal: 27.1s\tremaining: 6.44s\n",
      "808:\tlearn: 0.2266354\ttotal: 27.1s\tremaining: 6.41s\n",
      "809:\tlearn: 0.2265150\ttotal: 27.2s\tremaining: 6.37s\n",
      "810:\tlearn: 0.2263809\ttotal: 27.2s\tremaining: 6.34s\n",
      "811:\tlearn: 0.2262735\ttotal: 27.2s\tremaining: 6.3s\n",
      "812:\tlearn: 0.2261544\ttotal: 27.3s\tremaining: 6.27s\n",
      "813:\tlearn: 0.2260401\ttotal: 27.3s\tremaining: 6.24s\n",
      "814:\tlearn: 0.2259072\ttotal: 27.3s\tremaining: 6.2s\n",
      "815:\tlearn: 0.2258003\ttotal: 27.3s\tremaining: 6.17s\n",
      "816:\tlearn: 0.2256871\ttotal: 27.4s\tremaining: 6.13s\n",
      "817:\tlearn: 0.2256023\ttotal: 27.4s\tremaining: 6.1s\n",
      "818:\tlearn: 0.2254931\ttotal: 27.4s\tremaining: 6.06s\n",
      "819:\tlearn: 0.2253913\ttotal: 27.5s\tremaining: 6.03s\n",
      "820:\tlearn: 0.2252678\ttotal: 27.5s\tremaining: 5.99s\n",
      "821:\tlearn: 0.2251552\ttotal: 27.5s\tremaining: 5.96s\n",
      "822:\tlearn: 0.2250492\ttotal: 27.6s\tremaining: 5.93s\n",
      "823:\tlearn: 0.2248877\ttotal: 27.6s\tremaining: 5.89s\n",
      "824:\tlearn: 0.2246976\ttotal: 27.6s\tremaining: 5.86s\n",
      "825:\tlearn: 0.2246270\ttotal: 27.7s\tremaining: 5.82s\n",
      "826:\tlearn: 0.2243958\ttotal: 27.7s\tremaining: 5.79s\n",
      "827:\tlearn: 0.2242896\ttotal: 27.7s\tremaining: 5.75s\n",
      "828:\tlearn: 0.2241981\ttotal: 27.7s\tremaining: 5.72s\n",
      "829:\tlearn: 0.2241075\ttotal: 27.8s\tremaining: 5.69s\n",
      "830:\tlearn: 0.2240248\ttotal: 27.8s\tremaining: 5.65s\n",
      "831:\tlearn: 0.2238855\ttotal: 27.8s\tremaining: 5.62s\n",
      "832:\tlearn: 0.2237649\ttotal: 27.9s\tremaining: 5.58s\n",
      "833:\tlearn: 0.2236608\ttotal: 27.9s\tremaining: 5.55s\n",
      "834:\tlearn: 0.2235627\ttotal: 27.9s\tremaining: 5.51s\n",
      "835:\tlearn: 0.2234831\ttotal: 28s\tremaining: 5.48s\n",
      "836:\tlearn: 0.2234161\ttotal: 28s\tremaining: 5.46s\n",
      "837:\tlearn: 0.2233034\ttotal: 28.1s\tremaining: 5.42s\n",
      "838:\tlearn: 0.2232140\ttotal: 28.1s\tremaining: 5.39s\n",
      "839:\tlearn: 0.2230980\ttotal: 28.1s\tremaining: 5.35s\n",
      "840:\tlearn: 0.2229845\ttotal: 28.1s\tremaining: 5.32s\n",
      "841:\tlearn: 0.2228963\ttotal: 28.2s\tremaining: 5.29s\n",
      "842:\tlearn: 0.2228180\ttotal: 28.2s\tremaining: 5.25s\n",
      "843:\tlearn: 0.2226999\ttotal: 28.2s\tremaining: 5.22s\n",
      "844:\tlearn: 0.2226080\ttotal: 28.3s\tremaining: 5.19s\n",
      "845:\tlearn: 0.2225388\ttotal: 28.3s\tremaining: 5.15s\n",
      "846:\tlearn: 0.2224056\ttotal: 28.3s\tremaining: 5.12s\n",
      "847:\tlearn: 0.2223235\ttotal: 28.4s\tremaining: 5.08s\n",
      "848:\tlearn: 0.2222183\ttotal: 28.4s\tremaining: 5.05s\n",
      "849:\tlearn: 0.2220846\ttotal: 28.4s\tremaining: 5.01s\n",
      "850:\tlearn: 0.2220071\ttotal: 28.4s\tremaining: 4.98s\n",
      "851:\tlearn: 0.2219104\ttotal: 28.5s\tremaining: 4.95s\n",
      "852:\tlearn: 0.2218124\ttotal: 28.5s\tremaining: 4.91s\n",
      "853:\tlearn: 0.2217056\ttotal: 28.6s\tremaining: 4.88s\n",
      "854:\tlearn: 0.2216214\ttotal: 28.6s\tremaining: 4.85s\n",
      "855:\tlearn: 0.2215103\ttotal: 28.7s\tremaining: 4.82s\n",
      "856:\tlearn: 0.2213794\ttotal: 28.7s\tremaining: 4.79s\n",
      "857:\tlearn: 0.2212827\ttotal: 28.8s\tremaining: 4.76s\n",
      "858:\tlearn: 0.2211894\ttotal: 28.8s\tremaining: 4.73s\n",
      "859:\tlearn: 0.2210503\ttotal: 28.8s\tremaining: 4.69s\n",
      "860:\tlearn: 0.2209332\ttotal: 28.9s\tremaining: 4.66s\n",
      "861:\tlearn: 0.2208580\ttotal: 28.9s\tremaining: 4.62s\n",
      "862:\tlearn: 0.2207621\ttotal: 28.9s\tremaining: 4.59s\n",
      "863:\tlearn: 0.2206673\ttotal: 28.9s\tremaining: 4.55s\n",
      "864:\tlearn: 0.2205725\ttotal: 29s\tremaining: 4.52s\n",
      "865:\tlearn: 0.2203073\ttotal: 29s\tremaining: 4.49s\n",
      "866:\tlearn: 0.2202163\ttotal: 29s\tremaining: 4.45s\n",
      "867:\tlearn: 0.2201092\ttotal: 29.1s\tremaining: 4.42s\n",
      "868:\tlearn: 0.2200179\ttotal: 29.1s\tremaining: 4.39s\n",
      "869:\tlearn: 0.2199114\ttotal: 29.2s\tremaining: 4.36s\n",
      "870:\tlearn: 0.2197842\ttotal: 29.2s\tremaining: 4.32s\n",
      "871:\tlearn: 0.2196808\ttotal: 29.2s\tremaining: 4.29s\n",
      "872:\tlearn: 0.2196190\ttotal: 29.3s\tremaining: 4.26s\n",
      "873:\tlearn: 0.2195508\ttotal: 29.3s\tremaining: 4.23s\n",
      "874:\tlearn: 0.2194378\ttotal: 29.4s\tremaining: 4.19s\n",
      "875:\tlearn: 0.2193368\ttotal: 29.4s\tremaining: 4.16s\n",
      "876:\tlearn: 0.2192585\ttotal: 29.4s\tremaining: 4.13s\n",
      "877:\tlearn: 0.2191475\ttotal: 29.5s\tremaining: 4.09s\n",
      "878:\tlearn: 0.2190447\ttotal: 29.5s\tremaining: 4.06s\n",
      "879:\tlearn: 0.2188410\ttotal: 29.5s\tremaining: 4.03s\n",
      "880:\tlearn: 0.2187643\ttotal: 29.6s\tremaining: 3.99s\n",
      "881:\tlearn: 0.2186349\ttotal: 29.6s\tremaining: 3.96s\n",
      "882:\tlearn: 0.2185565\ttotal: 29.6s\tremaining: 3.93s\n",
      "883:\tlearn: 0.2184542\ttotal: 29.7s\tremaining: 3.89s\n",
      "884:\tlearn: 0.2183502\ttotal: 29.7s\tremaining: 3.86s\n",
      "885:\tlearn: 0.2182426\ttotal: 29.8s\tremaining: 3.83s\n",
      "886:\tlearn: 0.2181266\ttotal: 29.8s\tremaining: 3.79s\n",
      "887:\tlearn: 0.2179785\ttotal: 29.8s\tremaining: 3.76s\n",
      "888:\tlearn: 0.2179148\ttotal: 29.9s\tremaining: 3.73s\n",
      "889:\tlearn: 0.2178037\ttotal: 29.9s\tremaining: 3.69s\n",
      "890:\tlearn: 0.2176845\ttotal: 29.9s\tremaining: 3.66s\n",
      "891:\tlearn: 0.2175472\ttotal: 30s\tremaining: 3.63s\n",
      "892:\tlearn: 0.2174499\ttotal: 30s\tremaining: 3.59s\n",
      "893:\tlearn: 0.2173830\ttotal: 30s\tremaining: 3.56s\n",
      "894:\tlearn: 0.2172823\ttotal: 30s\tremaining: 3.52s\n",
      "895:\tlearn: 0.2171837\ttotal: 30.1s\tremaining: 3.49s\n",
      "896:\tlearn: 0.2170468\ttotal: 30.1s\tremaining: 3.46s\n",
      "897:\tlearn: 0.2169411\ttotal: 30.1s\tremaining: 3.42s\n",
      "898:\tlearn: 0.2168261\ttotal: 30.2s\tremaining: 3.39s\n",
      "899:\tlearn: 0.2167542\ttotal: 30.2s\tremaining: 3.35s\n",
      "900:\tlearn: 0.2166714\ttotal: 30.2s\tremaining: 3.32s\n",
      "901:\tlearn: 0.2165640\ttotal: 30.3s\tremaining: 3.29s\n",
      "902:\tlearn: 0.2164618\ttotal: 30.3s\tremaining: 3.25s\n",
      "903:\tlearn: 0.2164129\ttotal: 30.3s\tremaining: 3.22s\n",
      "904:\tlearn: 0.2162737\ttotal: 30.4s\tremaining: 3.19s\n",
      "905:\tlearn: 0.2161366\ttotal: 30.4s\tremaining: 3.15s\n",
      "906:\tlearn: 0.2160145\ttotal: 30.4s\tremaining: 3.12s\n",
      "907:\tlearn: 0.2159556\ttotal: 30.4s\tremaining: 3.08s\n",
      "908:\tlearn: 0.2158475\ttotal: 30.5s\tremaining: 3.05s\n",
      "909:\tlearn: 0.2157324\ttotal: 30.5s\tremaining: 3.02s\n",
      "910:\tlearn: 0.2156761\ttotal: 30.5s\tremaining: 2.98s\n",
      "911:\tlearn: 0.2156136\ttotal: 30.6s\tremaining: 2.95s\n",
      "912:\tlearn: 0.2155289\ttotal: 30.6s\tremaining: 2.92s\n",
      "913:\tlearn: 0.2154186\ttotal: 30.7s\tremaining: 2.88s\n",
      "914:\tlearn: 0.2153389\ttotal: 30.7s\tremaining: 2.85s\n",
      "915:\tlearn: 0.2152747\ttotal: 30.7s\tremaining: 2.82s\n",
      "916:\tlearn: 0.2151991\ttotal: 30.8s\tremaining: 2.78s\n",
      "917:\tlearn: 0.2150931\ttotal: 30.8s\tremaining: 2.75s\n",
      "918:\tlearn: 0.2149786\ttotal: 30.8s\tremaining: 2.71s\n",
      "919:\tlearn: 0.2148222\ttotal: 30.8s\tremaining: 2.68s\n",
      "920:\tlearn: 0.2147104\ttotal: 30.9s\tremaining: 2.65s\n",
      "921:\tlearn: 0.2146459\ttotal: 30.9s\tremaining: 2.61s\n",
      "922:\tlearn: 0.2145631\ttotal: 30.9s\tremaining: 2.58s\n",
      "923:\tlearn: 0.2144563\ttotal: 31s\tremaining: 2.55s\n",
      "924:\tlearn: 0.2143817\ttotal: 31s\tremaining: 2.51s\n",
      "925:\tlearn: 0.2142832\ttotal: 31s\tremaining: 2.48s\n",
      "926:\tlearn: 0.2142064\ttotal: 31s\tremaining: 2.44s\n",
      "927:\tlearn: 0.2140995\ttotal: 31.1s\tremaining: 2.41s\n",
      "928:\tlearn: 0.2140099\ttotal: 31.1s\tremaining: 2.38s\n",
      "929:\tlearn: 0.2139414\ttotal: 31.1s\tremaining: 2.34s\n",
      "930:\tlearn: 0.2137888\ttotal: 31.2s\tremaining: 2.31s\n",
      "931:\tlearn: 0.2137234\ttotal: 31.2s\tremaining: 2.28s\n",
      "932:\tlearn: 0.2136599\ttotal: 31.2s\tremaining: 2.24s\n",
      "933:\tlearn: 0.2134904\ttotal: 31.3s\tremaining: 2.21s\n",
      "934:\tlearn: 0.2133907\ttotal: 31.3s\tremaining: 2.18s\n",
      "935:\tlearn: 0.2133120\ttotal: 31.3s\tremaining: 2.14s\n",
      "936:\tlearn: 0.2131667\ttotal: 31.4s\tremaining: 2.11s\n",
      "937:\tlearn: 0.2130525\ttotal: 31.4s\tremaining: 2.08s\n",
      "938:\tlearn: 0.2129638\ttotal: 31.4s\tremaining: 2.04s\n",
      "939:\tlearn: 0.2128679\ttotal: 31.5s\tremaining: 2.01s\n",
      "940:\tlearn: 0.2128017\ttotal: 31.5s\tremaining: 1.97s\n",
      "941:\tlearn: 0.2127250\ttotal: 31.5s\tremaining: 1.94s\n",
      "942:\tlearn: 0.2126115\ttotal: 31.5s\tremaining: 1.91s\n",
      "943:\tlearn: 0.2125088\ttotal: 31.6s\tremaining: 1.87s\n",
      "944:\tlearn: 0.2124217\ttotal: 31.6s\tremaining: 1.84s\n",
      "945:\tlearn: 0.2123324\ttotal: 31.6s\tremaining: 1.8s\n",
      "946:\tlearn: 0.2121825\ttotal: 31.7s\tremaining: 1.77s\n",
      "947:\tlearn: 0.2121186\ttotal: 31.7s\tremaining: 1.74s\n",
      "948:\tlearn: 0.2119938\ttotal: 31.7s\tremaining: 1.7s\n",
      "949:\tlearn: 0.2119234\ttotal: 31.7s\tremaining: 1.67s\n",
      "950:\tlearn: 0.2118604\ttotal: 31.8s\tremaining: 1.64s\n",
      "951:\tlearn: 0.2117269\ttotal: 31.8s\tremaining: 1.6s\n",
      "952:\tlearn: 0.2116242\ttotal: 31.8s\tremaining: 1.57s\n",
      "953:\tlearn: 0.2114791\ttotal: 31.9s\tremaining: 1.54s\n",
      "954:\tlearn: 0.2113792\ttotal: 31.9s\tremaining: 1.5s\n",
      "955:\tlearn: 0.2112589\ttotal: 31.9s\tremaining: 1.47s\n",
      "956:\tlearn: 0.2111726\ttotal: 32s\tremaining: 1.44s\n",
      "957:\tlearn: 0.2111157\ttotal: 32s\tremaining: 1.4s\n",
      "958:\tlearn: 0.2110255\ttotal: 32s\tremaining: 1.37s\n",
      "959:\tlearn: 0.2109401\ttotal: 32s\tremaining: 1.33s\n",
      "960:\tlearn: 0.2108314\ttotal: 32.1s\tremaining: 1.3s\n",
      "961:\tlearn: 0.2107243\ttotal: 32.1s\tremaining: 1.27s\n",
      "962:\tlearn: 0.2106266\ttotal: 32.1s\tremaining: 1.23s\n",
      "963:\tlearn: 0.2105315\ttotal: 32.2s\tremaining: 1.2s\n",
      "964:\tlearn: 0.2104932\ttotal: 32.2s\tremaining: 1.17s\n",
      "965:\tlearn: 0.2104129\ttotal: 32.2s\tremaining: 1.13s\n",
      "966:\tlearn: 0.2102886\ttotal: 32.3s\tremaining: 1.1s\n",
      "967:\tlearn: 0.2102291\ttotal: 32.3s\tremaining: 1.07s\n",
      "968:\tlearn: 0.2101379\ttotal: 32.3s\tremaining: 1.03s\n",
      "969:\tlearn: 0.2100600\ttotal: 32.3s\tremaining: 1s\n",
      "970:\tlearn: 0.2099455\ttotal: 32.4s\tremaining: 967ms\n",
      "971:\tlearn: 0.2097993\ttotal: 32.4s\tremaining: 934ms\n",
      "972:\tlearn: 0.2097274\ttotal: 32.4s\tremaining: 900ms\n",
      "973:\tlearn: 0.2096307\ttotal: 32.5s\tremaining: 867ms\n",
      "974:\tlearn: 0.2095176\ttotal: 32.5s\tremaining: 834ms\n",
      "975:\tlearn: 0.2094276\ttotal: 32.5s\tremaining: 800ms\n",
      "976:\tlearn: 0.2093080\ttotal: 32.6s\tremaining: 767ms\n",
      "977:\tlearn: 0.2092233\ttotal: 32.6s\tremaining: 733ms\n",
      "978:\tlearn: 0.2091366\ttotal: 32.6s\tremaining: 700ms\n",
      "979:\tlearn: 0.2090446\ttotal: 32.7s\tremaining: 666ms\n",
      "980:\tlearn: 0.2089826\ttotal: 32.7s\tremaining: 633ms\n",
      "981:\tlearn: 0.2089318\ttotal: 32.7s\tremaining: 600ms\n",
      "982:\tlearn: 0.2088329\ttotal: 32.7s\tremaining: 566ms\n",
      "983:\tlearn: 0.2087370\ttotal: 32.8s\tremaining: 533ms\n",
      "984:\tlearn: 0.2086305\ttotal: 32.8s\tremaining: 500ms\n",
      "985:\tlearn: 0.2085062\ttotal: 32.8s\tremaining: 466ms\n",
      "986:\tlearn: 0.2083741\ttotal: 32.9s\tremaining: 433ms\n",
      "987:\tlearn: 0.2083029\ttotal: 32.9s\tremaining: 400ms\n",
      "988:\tlearn: 0.2081619\ttotal: 32.9s\tremaining: 366ms\n",
      "989:\tlearn: 0.2080877\ttotal: 33s\tremaining: 333ms\n",
      "990:\tlearn: 0.2080148\ttotal: 33s\tremaining: 300ms\n",
      "991:\tlearn: 0.2079348\ttotal: 33.1s\tremaining: 267ms\n",
      "992:\tlearn: 0.2078348\ttotal: 33.1s\tremaining: 233ms\n",
      "993:\tlearn: 0.2077360\ttotal: 33.1s\tremaining: 200ms\n",
      "994:\tlearn: 0.2076549\ttotal: 33.2s\tremaining: 167ms\n",
      "995:\tlearn: 0.2075705\ttotal: 33.2s\tremaining: 133ms\n",
      "996:\tlearn: 0.2074740\ttotal: 33.2s\tremaining: 100ms\n",
      "997:\tlearn: 0.2073399\ttotal: 33.2s\tremaining: 66.6ms\n",
      "998:\tlearn: 0.2072632\ttotal: 33.3s\tremaining: 33.3ms\n",
      "999:\tlearn: 0.2071421\ttotal: 33.3s\tremaining: 0us\n"
     ]
    }
   ],
   "source": [
    "classifier2  = CatBoostClassifier()\n",
    "\n",
    "#train the model \n",
    "classifier2.fit(X_train,y_train)\n",
    "\n",
    "# make predicition on test set \n",
    "\n",
    "preds = classifier2.predict(X_test)"
   ]
  },
  {
   "cell_type": "code",
   "execution_count": 38,
   "metadata": {},
   "outputs": [
    {
     "data": {
      "text/plain": [
       "['/Users/Lenovo/Desktop/Project/model/catboost-model2.pkl']"
      ]
     },
     "execution_count": 38,
     "metadata": {},
     "output_type": "execute_result"
    }
   ],
   "source": [
    "joblib.dump(classifier2,'/Users/Lenovo/Desktop/Project/model/catboost-model2.pkl')"
   ]
  },
  {
   "cell_type": "code",
   "execution_count": null,
   "metadata": {},
   "outputs": [],
   "source": [
    "from sklearn.metrics import accuracy_score\n",
    "\n",
    "model_score = accuracy_score(y_test,preds)\n",
    "\n",
    "print(\"{:.2f}%\".format(model_score*100))"
   ]
  },
  {
   "cell_type": "code",
   "execution_count": null,
   "metadata": {},
   "outputs": [],
   "source": [
    "from sklearn.metrics import f1_score\n",
    "\n",
    "score = f1_score(y_test,preds,)\n",
    "\n",
    "score "
   ]
  },
  {
   "cell_type": "code",
   "execution_count": null,
   "metadata": {},
   "outputs": [],
   "source": [
    "!pip install imblearn"
   ]
  },
  {
   "cell_type": "code",
   "execution_count": null,
   "metadata": {},
   "outputs": [],
   "source": [
    "import pickle as pkl"
   ]
  },
  {
   "cell_type": "code",
   "execution_count": null,
   "metadata": {},
   "outputs": [],
   "source": [
    "pickle_out1=open(\"classifier2.pkl\",\"wb\")"
   ]
  },
  {
   "cell_type": "code",
   "execution_count": null,
   "metadata": {},
   "outputs": [],
   "source": [
    "pkl.dump(classifier2,pickle_out1)"
   ]
  },
  {
   "cell_type": "code",
   "execution_count": null,
   "metadata": {},
   "outputs": [],
   "source": [
    "pickle_out1.close()"
   ]
  },
  {
   "cell_type": "code",
   "execution_count": null,
   "metadata": {},
   "outputs": [],
   "source": [
    "sklearn.__version__"
   ]
  },
  {
   "cell_type": "code",
   "execution_count": null,
   "metadata": {},
   "outputs": [],
   "source": [
    "import sklearn"
   ]
  },
  {
   "cell_type": "code",
   "execution_count": null,
   "metadata": {},
   "outputs": [],
   "source": [
    "sklea"
   ]
  }
 ],
 "metadata": {
  "hide_input": false,
  "kernel_info": {
   "name": "python3"
  },
  "kernelspec": {
   "display_name": "Python 3 (ipykernel)",
   "language": "python",
   "name": "python3"
  },
  "language_info": {
   "codemirror_mode": {
    "name": "ipython",
    "version": 3
   },
   "file_extension": ".py",
   "mimetype": "text/x-python",
   "name": "python",
   "nbconvert_exporter": "python",
   "pygments_lexer": "ipython3",
   "version": "3.9.12"
  },
  "nteract": {
   "version": "0.15.0"
  },
  "toc": {
   "base_numbering": 1,
   "nav_menu": {},
   "number_sections": true,
   "sideBar": true,
   "skip_h1_title": false,
   "title_cell": "Table of Contents",
   "title_sidebar": "Contents",
   "toc_cell": false,
   "toc_position": {},
   "toc_section_display": true,
   "toc_window_display": false
  }
 },
 "nbformat": 4,
 "nbformat_minor": 2
}
